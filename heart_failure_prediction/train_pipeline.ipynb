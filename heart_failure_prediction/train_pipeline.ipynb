{
 "cells": [
  {
   "cell_type": "markdown",
   "id": "limiting-exclusion",
   "metadata": {},
   "source": [
    "### Import Libraries"
   ]
  },
  {
   "cell_type": "code",
   "execution_count": 1,
   "id": "addressed-catering",
   "metadata": {},
   "outputs": [],
   "source": [
    "import numpy as np\n",
    "import pandas as pd\n",
    "import matplotlib.pyplot as plt\n",
    "import seaborn as sns"
   ]
  },
  {
   "cell_type": "markdown",
   "id": "close-habitat",
   "metadata": {},
   "source": [
    "### Read the train Data"
   ]
  },
  {
   "cell_type": "code",
   "execution_count": 2,
   "id": "finite-upset",
   "metadata": {},
   "outputs": [
    {
     "name": "stdout",
     "output_type": "stream",
     "text": [
      "      age  anaemia  creatinine_phosphokinase  diabetes  ejection_fraction  \\\n",
      "0  75.000        1                       246         0                 15   \n",
      "1  75.000        0                        99         0                 38   \n",
      "2  60.667        1                       104         1                 30   \n",
      "3  52.000        0                       132         0                 30   \n",
      "4  94.000        0                       582         1                 38   \n",
      "\n",
      "   high_blood_pressure  platelets  serum_creatinine  serum_sodium  sex  \\\n",
      "0                    0  127000.00              1.20           137    1   \n",
      "1                    1  224000.00              2.50           134    1   \n",
      "2                    0  389000.00              1.50           136    1   \n",
      "3                    0  218000.00              0.70           136    1   \n",
      "4                    1  263358.03              1.83           134    1   \n",
      "\n",
      "   smoking  time  DEATH_EVENT  \n",
      "0        0    10            1  \n",
      "1        0   162            1  \n",
      "2        0   171            1  \n",
      "3        1   112            0  \n",
      "4        0    27            1  \n"
     ]
    }
   ],
   "source": [
    "train_data= pd.read_csv(\"heart_train.csv\")\n",
    "print(train_data.head())"
   ]
  },
  {
   "cell_type": "code",
   "execution_count": 3,
   "id": "beautiful-silly",
   "metadata": {},
   "outputs": [
    {
     "name": "stdout",
     "output_type": "stream",
     "text": [
      "===============describe================\n",
      "              age     anaemia  creatinine_phosphokinase    diabetes  \\\n",
      "count  239.000000  239.000000                239.000000  239.000000   \n",
      "mean    61.059975    0.435146                577.083682    0.405858   \n",
      "std     11.999013    0.496817                946.937475    0.492088   \n",
      "min     40.000000    0.000000                 23.000000    0.000000   \n",
      "25%     52.000000    0.000000                111.500000    0.000000   \n",
      "50%     60.000000    0.000000                245.000000    0.000000   \n",
      "75%     69.500000    1.000000                582.000000    1.000000   \n",
      "max     95.000000    1.000000               7861.000000    1.000000   \n",
      "\n",
      "       ejection_fraction  high_blood_pressure      platelets  \\\n",
      "count         239.000000           239.000000     239.000000   \n",
      "mean           38.263598             0.351464  262427.450209   \n",
      "std            11.651161             0.478430   94272.495618   \n",
      "min            15.000000             0.000000   47000.000000   \n",
      "25%            30.000000             0.000000  212500.000000   \n",
      "50%            38.000000             0.000000  263000.000000   \n",
      "75%            45.000000             1.000000  303500.000000   \n",
      "max            80.000000             1.000000  742000.000000   \n",
      "\n",
      "       serum_creatinine  serum_sodium         sex     smoking        time  \\\n",
      "count        239.000000    239.000000  239.000000  239.000000  239.000000   \n",
      "mean           1.387364    136.418410    0.644351    0.313808  132.297071   \n",
      "std            0.994975      4.440152    0.479714    0.465013   78.350857   \n",
      "min            0.500000    113.000000    0.000000    0.000000    4.000000   \n",
      "25%            0.900000    134.000000    0.000000    0.000000   73.500000   \n",
      "50%            1.100000    137.000000    1.000000    0.000000  119.000000   \n",
      "75%            1.400000    139.000000    1.000000    1.000000  205.500000   \n",
      "max            9.000000    146.000000    1.000000    1.000000  285.000000   \n",
      "\n",
      "       DEATH_EVENT  \n",
      "count   239.000000  \n",
      "mean      0.297071  \n",
      "std       0.457927  \n",
      "min       0.000000  \n",
      "25%       0.000000  \n",
      "50%       0.000000  \n",
      "75%       1.000000  \n",
      "max       1.000000  \n"
     ]
    }
   ],
   "source": [
    "print(\"===============describe================\")\n",
    "print(train_data.describe())"
   ]
  },
  {
   "cell_type": "code",
   "execution_count": 4,
   "id": "advised-stranger",
   "metadata": {},
   "outputs": [
    {
     "name": "stdout",
     "output_type": "stream",
     "text": [
      "================info===================\n",
      "<class 'pandas.core.frame.DataFrame'>\n",
      "RangeIndex: 239 entries, 0 to 238\n",
      "Data columns (total 13 columns):\n",
      " #   Column                    Non-Null Count  Dtype  \n",
      "---  ------                    --------------  -----  \n",
      " 0   age                       239 non-null    float64\n",
      " 1   anaemia                   239 non-null    int64  \n",
      " 2   creatinine_phosphokinase  239 non-null    int64  \n",
      " 3   diabetes                  239 non-null    int64  \n",
      " 4   ejection_fraction         239 non-null    int64  \n",
      " 5   high_blood_pressure       239 non-null    int64  \n",
      " 6   platelets                 239 non-null    float64\n",
      " 7   serum_creatinine          239 non-null    float64\n",
      " 8   serum_sodium              239 non-null    int64  \n",
      " 9   sex                       239 non-null    int64  \n",
      " 10  smoking                   239 non-null    int64  \n",
      " 11  time                      239 non-null    int64  \n",
      " 12  DEATH_EVENT               239 non-null    int64  \n",
      "dtypes: float64(3), int64(10)\n",
      "memory usage: 24.4 KB\n",
      "None\n"
     ]
    }
   ],
   "source": [
    "print(\"================info===================\")\n",
    "print(train_data.info())"
   ]
  },
  {
   "cell_type": "markdown",
   "id": "removed-spoke",
   "metadata": {},
   "source": [
    "### Checking the null or missing values"
   ]
  },
  {
   "cell_type": "code",
   "execution_count": 5,
   "id": "mathematical-defensive",
   "metadata": {},
   "outputs": [
    {
     "name": "stdout",
     "output_type": "stream",
     "text": [
      "       age  anaemia  creatinine_phosphokinase  diabetes  ejection_fraction  \\\n",
      "0    False    False                     False     False              False   \n",
      "1    False    False                     False     False              False   \n",
      "2    False    False                     False     False              False   \n",
      "3    False    False                     False     False              False   \n",
      "4    False    False                     False     False              False   \n",
      "..     ...      ...                       ...       ...                ...   \n",
      "234  False    False                     False     False              False   \n",
      "235  False    False                     False     False              False   \n",
      "236  False    False                     False     False              False   \n",
      "237  False    False                     False     False              False   \n",
      "238  False    False                     False     False              False   \n",
      "\n",
      "     high_blood_pressure  platelets  serum_creatinine  serum_sodium    sex  \\\n",
      "0                  False      False             False         False  False   \n",
      "1                  False      False             False         False  False   \n",
      "2                  False      False             False         False  False   \n",
      "3                  False      False             False         False  False   \n",
      "4                  False      False             False         False  False   \n",
      "..                   ...        ...               ...           ...    ...   \n",
      "234                False      False             False         False  False   \n",
      "235                False      False             False         False  False   \n",
      "236                False      False             False         False  False   \n",
      "237                False      False             False         False  False   \n",
      "238                False      False             False         False  False   \n",
      "\n",
      "     smoking   time  DEATH_EVENT  \n",
      "0      False  False        False  \n",
      "1      False  False        False  \n",
      "2      False  False        False  \n",
      "3      False  False        False  \n",
      "4      False  False        False  \n",
      "..       ...    ...          ...  \n",
      "234    False  False        False  \n",
      "235    False  False        False  \n",
      "236    False  False        False  \n",
      "237    False  False        False  \n",
      "238    False  False        False  \n",
      "\n",
      "[239 rows x 13 columns]\n"
     ]
    }
   ],
   "source": [
    "# null values\n",
    "print(train_data.isnull())"
   ]
  },
  {
   "cell_type": "code",
   "execution_count": 6,
   "id": "interim-census",
   "metadata": {},
   "outputs": [
    {
     "name": "stdout",
     "output_type": "stream",
     "text": [
      "age                         0\n",
      "anaemia                     0\n",
      "creatinine_phosphokinase    0\n",
      "diabetes                    0\n",
      "ejection_fraction           0\n",
      "high_blood_pressure         0\n",
      "platelets                   0\n",
      "serum_creatinine            0\n",
      "serum_sodium                0\n",
      "sex                         0\n",
      "smoking                     0\n",
      "time                        0\n",
      "DEATH_EVENT                 0\n",
      "dtype: int64\n"
     ]
    }
   ],
   "source": [
    "#null values per column\n",
    "print(train_data.isnull().sum())"
   ]
  },
  {
   "cell_type": "code",
   "execution_count": 7,
   "id": "rough-belarus",
   "metadata": {},
   "outputs": [
    {
     "name": "stdout",
     "output_type": "stream",
     "text": [
      "0\n"
     ]
    }
   ],
   "source": [
    "# total null values\n",
    "print(train_data.isnull().sum().sum())"
   ]
  },
  {
   "cell_type": "code",
   "execution_count": 8,
   "id": "supposed-bidder",
   "metadata": {},
   "outputs": [],
   "source": [
    "#Axis 0 will act on all the ROWS in each COLUMN\n",
    "#Axis 1 will act on all the COLUMNS in each ROW\n",
    "#So a mean on axis 0 will be the mean of all the rows in each column, and a mean on axis 1 will be a mean of all the columns in each row.\n",
    "\n",
    "#drop the missing value\n",
    "# train_data_copy=train_data.copy()\n",
    "# print(train_data_copy.head())\n",
    "# print(train_data_copy.isnull().sum())\n",
    "# train_data_copy=train_data_copy.dropna()\n",
    "# print(train_data_copy.isnull().sum().sum())\n",
    "# print(train_data_copy.shape)\n",
    "\n",
    "#from numpy import nan\n",
    "# test_data = test_data.replace(0, nan)\n",
    "\n",
    "#test_data.drop(test_data.columns[0], axis=1, inplace= True)\n",
    "#test_data.info()\n",
    "\n",
    "# # treat missing value with sklearn\n",
    "# from sklearn.impute import SimpleImputer\n",
    "# imputer = SimpleImputer(missing_values=nan, strategy='mean')\n",
    "# imputer.fit(test_data[:,2:3])\n",
    "# test_data[:,:-1] = imputer.transform(test_data[:, :-1])\n"
   ]
  },
  {
   "cell_type": "code",
   "execution_count": 10,
   "id": "derived-offense",
   "metadata": {},
   "outputs": [],
   "source": [
    "# train_data.info()\n",
    "# #vizualizing outliers\n",
    "# sns.set(style=\"whitegrid\")\n",
    "# ax=sns.boxplot(data=train_data[\"age\"])\n",
    "\n",
    "# #remove outliers\n",
    "# from scipy import stats\n",
    "# thresh=3\n",
    "# train_data=train_data[np.abs(stats.zscore(train_data[\"age\"]))<thresh]\n",
    "# #vizualizing outliers\n",
    "# sns.set(style=\"whitegrid\")\n",
    "# ax=sns.boxplot(data=train_data[\"age\"])\n",
    "\n",
    "# train_data=train_data[np.abs(stats.zscore(train_data[\"anaemia\"]))<thresh]\n",
    "# train_data=train_data[np.abs(stats.zscore(train_data[\"creatinine_phosphokinase\"]))<thresh]\n",
    "# train_data=train_data[np.abs(stats.zscore(train_data[\"duration\"]))<thresh]\n",
    "# train_data=train_data[np.abs(stats.zscore(train_data[\"campaign\"]))<thresh]\n",
    "# train_data=train_data[np.abs(stats.zscore(train_data[\"pdays\"]))<thresh]\n",
    "# train_data=train_data[np.abs(stats.zscore(train_data[\"previous\"]))<thresh]\n",
    "\n",
    "# train_data.info()"
   ]
  },
  {
   "cell_type": "code",
   "execution_count": 11,
   "id": "ethical-plenty",
   "metadata": {},
   "outputs": [
    {
     "data": {
      "text/plain": [
       "[]"
      ]
     },
     "execution_count": 11,
     "metadata": {},
     "output_type": "execute_result"
    }
   ],
   "source": [
    "#correlation check\n",
    "train_copy = train_data.copy()\n",
    "corr_matrix = train_copy.corr().abs()\n",
    "upper = corr_matrix.where(np.triu(np.ones(corr_matrix.shape), k=1).astype(np.bool))\n",
    "upper\n",
    "to_drop = [var for var in upper.columns if any(upper[var] > .90)]\n",
    "to_drop"
   ]
  },
  {
   "cell_type": "code",
   "execution_count": 14,
   "id": "ranging-maple",
   "metadata": {},
   "outputs": [
    {
     "name": "stdout",
     "output_type": "stream",
     "text": [
      "<class 'pandas.core.frame.DataFrame'>\n",
      "Int64Index: 233 entries, 0 to 238\n",
      "Data columns (total 12 columns):\n",
      " #   Column                    Non-Null Count  Dtype  \n",
      "---  ------                    --------------  -----  \n",
      " 0   age                       233 non-null    float64\n",
      " 1   anaemia                   233 non-null    int64  \n",
      " 2   creatinine_phosphokinase  233 non-null    int64  \n",
      " 3   diabetes                  233 non-null    int64  \n",
      " 4   ejection_fraction         233 non-null    int64  \n",
      " 5   high_blood_pressure       233 non-null    int64  \n",
      " 6   platelets                 233 non-null    float64\n",
      " 7   serum_creatinine          233 non-null    float64\n",
      " 8   serum_sodium              233 non-null    int64  \n",
      " 9   sex                       233 non-null    int64  \n",
      " 10  smoking                   233 non-null    int64  \n",
      " 11  time                      233 non-null    int64  \n",
      "dtypes: float64(3), int64(9)\n",
      "memory usage: 23.7 KB\n",
      "None\n",
      "0    1\n",
      "1    1\n",
      "2    1\n",
      "3    0\n",
      "4    1\n",
      "Name: DEATH_EVENT, dtype: int64\n"
     ]
    }
   ],
   "source": [
    "#x y split\n",
    "x_train= train_data.iloc[:,:-1]\n",
    "y_train= train_data.iloc[:,-1]\n",
    "print(x_train.info())\n",
    "print(y_train.head())"
   ]
  },
  {
   "cell_type": "code",
   "execution_count": 15,
   "id": "forbidden-kruger",
   "metadata": {},
   "outputs": [],
   "source": [
    "#scalling\n",
    "\n",
    "from sklearn.preprocessing import StandardScaler\n",
    "sc = StandardScaler();\n",
    "x_train=sc.fit_transform(x_train)"
   ]
  },
  {
   "cell_type": "code",
   "execution_count": 16,
   "id": "interracial-explosion",
   "metadata": {},
   "outputs": [
    {
     "data": {
      "text/plain": [
       "['std_scaler.bin']"
      ]
     },
     "execution_count": 16,
     "metadata": {},
     "output_type": "execute_result"
    }
   ],
   "source": [
    "from joblib import dump\n",
    "dump(sc, 'std_scaler.bin', compress=True)"
   ]
  },
  {
   "cell_type": "code",
   "execution_count": 17,
   "id": "material-complex",
   "metadata": {},
   "outputs": [],
   "source": [
    "#model\n",
    "from sklearn.linear_model import LogisticRegression\n",
    "clf = LogisticRegression().fit(x_train, y_train)\n",
    "#predictions = clf.predict(x_test)"
   ]
  },
  {
   "cell_type": "code",
   "execution_count": 19,
   "id": "shared-gamma",
   "metadata": {},
   "outputs": [
    {
     "data": {
      "text/plain": [
       "['logistic_regression_model.sav']"
      ]
     },
     "execution_count": 19,
     "metadata": {},
     "output_type": "execute_result"
    }
   ],
   "source": [
    "#save the model\n",
    "import joblib\n",
    "filename='logistic_regression_model.sav'\n",
    "joblib.dump(clf, filename)"
   ]
  },
  {
   "cell_type": "code",
   "execution_count": 21,
   "id": "incorporated-helena",
   "metadata": {},
   "outputs": [
    {
     "data": {
      "text/plain": [
       "['randomforest.sav']"
      ]
     },
     "execution_count": 21,
     "metadata": {},
     "output_type": "execute_result"
    }
   ],
   "source": [
    "from sklearn.tree import DecisionTreeClassifier\n",
    "clf2 = DecisionTreeClassifier()\n",
    "clf2.fit(x_train, y_train)\n",
    "\n",
    "filename='randomforest.sav'\n",
    "joblib.dump(clf2, filename)"
   ]
  },
  {
   "cell_type": "code",
   "execution_count": 23,
   "id": "applicable-hotel",
   "metadata": {},
   "outputs": [
    {
     "data": {
      "text/plain": [
       "['decision_tree.sav']"
      ]
     },
     "execution_count": 23,
     "metadata": {},
     "output_type": "execute_result"
    }
   ],
   "source": [
    "from sklearn import tree\n",
    "clf3 = tree.DecisionTreeClassifier()\n",
    "clf3.fit(x_train, y_train)\n",
    "\n",
    "filename='decision_tree.sav'\n",
    "joblib.dump(clf3, filename)"
   ]
  },
  {
   "cell_type": "code",
   "execution_count": 26,
   "id": "further-poultry",
   "metadata": {},
   "outputs": [
    {
     "data": {
      "text/plain": [
       "['gaussian.sav']"
      ]
     },
     "execution_count": 26,
     "metadata": {},
     "output_type": "execute_result"
    }
   ],
   "source": [
    "from sklearn.naive_bayes import GaussianNB\n",
    "clf4 = GaussianNB()\n",
    "clf4.fit(x_train, y_train)\n",
    "\n",
    "filename='gaussian.sav'\n",
    "joblib.dump(clf4, filename)"
   ]
  },
  {
   "cell_type": "code",
   "execution_count": null,
   "id": "communist-madness",
   "metadata": {},
   "outputs": [],
   "source": []
  }
 ],
 "metadata": {
  "kernelspec": {
   "display_name": "Python 3",
   "language": "python",
   "name": "python3"
  },
  "language_info": {
   "codemirror_mode": {
    "name": "ipython",
    "version": 3
   },
   "file_extension": ".py",
   "mimetype": "text/x-python",
   "name": "python",
   "nbconvert_exporter": "python",
   "pygments_lexer": "ipython3",
   "version": "3.8.5"
  }
 },
 "nbformat": 4,
 "nbformat_minor": 5
}

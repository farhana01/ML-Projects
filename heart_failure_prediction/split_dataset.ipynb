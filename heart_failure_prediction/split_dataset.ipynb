{
 "cells": [
  {
   "cell_type": "code",
   "execution_count": 1,
   "id": "nuclear-model",
   "metadata": {},
   "outputs": [],
   "source": [
    "#import libraries\n",
    "\n",
    "import numpy as np\n",
    "import pandas as pd\n",
    "import matplotlib.pyplot as plt"
   ]
  },
  {
   "cell_type": "code",
   "execution_count": 2,
   "id": "welsh-cross",
   "metadata": {},
   "outputs": [
    {
     "name": "stdout",
     "output_type": "stream",
     "text": [
      "      age  anaemia  creatinine_phosphokinase  diabetes  ejection_fraction  \\\n",
      "0    75.0        0                       582         0                 20   \n",
      "1    55.0        0                      7861         0                 38   \n",
      "2    65.0        0                       146         0                 20   \n",
      "3    50.0        1                       111         0                 20   \n",
      "4    65.0        1                       160         1                 20   \n",
      "..    ...      ...                       ...       ...                ...   \n",
      "294  62.0        0                        61         1                 38   \n",
      "295  55.0        0                      1820         0                 38   \n",
      "296  45.0        0                      2060         1                 60   \n",
      "297  45.0        0                      2413         0                 38   \n",
      "298  50.0        0                       196         0                 45   \n",
      "\n",
      "     high_blood_pressure  platelets  serum_creatinine  serum_sodium  sex  \\\n",
      "0                      1  265000.00               1.9           130    1   \n",
      "1                      0  263358.03               1.1           136    1   \n",
      "2                      0  162000.00               1.3           129    1   \n",
      "3                      0  210000.00               1.9           137    1   \n",
      "4                      0  327000.00               2.7           116    0   \n",
      "..                   ...        ...               ...           ...  ...   \n",
      "294                    1  155000.00               1.1           143    1   \n",
      "295                    0  270000.00               1.2           139    0   \n",
      "296                    0  742000.00               0.8           138    0   \n",
      "297                    0  140000.00               1.4           140    1   \n",
      "298                    0  395000.00               1.6           136    1   \n",
      "\n",
      "     smoking  time  DEATH_EVENT  \n",
      "0          0     4            1  \n",
      "1          0     6            1  \n",
      "2          1     7            1  \n",
      "3          0     7            1  \n",
      "4          0     8            1  \n",
      "..       ...   ...          ...  \n",
      "294        1   270            0  \n",
      "295        0   271            0  \n",
      "296        0   278            0  \n",
      "297        1   280            0  \n",
      "298        1   285            0  \n",
      "\n",
      "[299 rows x 13 columns]\n"
     ]
    }
   ],
   "source": [
    "# import dataset\n",
    "\n",
    "dataset= pd.read_csv(\"heart_failure_clinical_records_dataset.csv\")\n",
    "print(dataset)"
   ]
  },
  {
   "cell_type": "code",
   "execution_count": 3,
   "id": "genetic-layer",
   "metadata": {},
   "outputs": [
    {
     "name": "stdout",
     "output_type": "stream",
     "text": [
      "<class 'pandas.core.frame.DataFrame'>\n",
      "RangeIndex: 299 entries, 0 to 298\n",
      "Data columns (total 13 columns):\n",
      " #   Column                    Non-Null Count  Dtype  \n",
      "---  ------                    --------------  -----  \n",
      " 0   age                       299 non-null    float64\n",
      " 1   anaemia                   299 non-null    int64  \n",
      " 2   creatinine_phosphokinase  299 non-null    int64  \n",
      " 3   diabetes                  299 non-null    int64  \n",
      " 4   ejection_fraction         299 non-null    int64  \n",
      " 5   high_blood_pressure       299 non-null    int64  \n",
      " 6   platelets                 299 non-null    float64\n",
      " 7   serum_creatinine          299 non-null    float64\n",
      " 8   serum_sodium              299 non-null    int64  \n",
      " 9   sex                       299 non-null    int64  \n",
      " 10  smoking                   299 non-null    int64  \n",
      " 11  time                      299 non-null    int64  \n",
      " 12  DEATH_EVENT               299 non-null    int64  \n",
      "dtypes: float64(3), int64(10)\n",
      "memory usage: 30.5 KB\n",
      "None\n"
     ]
    }
   ],
   "source": [
    "print(dataset.info())"
   ]
  },
  {
   "cell_type": "code",
   "execution_count": 4,
   "id": "sharing-memorabilia",
   "metadata": {},
   "outputs": [
    {
     "name": "stdout",
     "output_type": "stream",
     "text": [
      "              age     anaemia  creatinine_phosphokinase    diabetes  \\\n",
      "count  299.000000  299.000000                299.000000  299.000000   \n",
      "mean    60.833893    0.431438                581.839465    0.418060   \n",
      "std     11.894809    0.496107                970.287881    0.494067   \n",
      "min     40.000000    0.000000                 23.000000    0.000000   \n",
      "25%     51.000000    0.000000                116.500000    0.000000   \n",
      "50%     60.000000    0.000000                250.000000    0.000000   \n",
      "75%     70.000000    1.000000                582.000000    1.000000   \n",
      "max     95.000000    1.000000               7861.000000    1.000000   \n",
      "\n",
      "       ejection_fraction  high_blood_pressure      platelets  \\\n",
      "count         299.000000           299.000000     299.000000   \n",
      "mean           38.083612             0.351171  263358.029264   \n",
      "std            11.834841             0.478136   97804.236869   \n",
      "min            14.000000             0.000000   25100.000000   \n",
      "25%            30.000000             0.000000  212500.000000   \n",
      "50%            38.000000             0.000000  262000.000000   \n",
      "75%            45.000000             1.000000  303500.000000   \n",
      "max            80.000000             1.000000  850000.000000   \n",
      "\n",
      "       serum_creatinine  serum_sodium         sex    smoking        time  \\\n",
      "count         299.00000    299.000000  299.000000  299.00000  299.000000   \n",
      "mean            1.39388    136.625418    0.648829    0.32107  130.260870   \n",
      "std             1.03451      4.412477    0.478136    0.46767   77.614208   \n",
      "min             0.50000    113.000000    0.000000    0.00000    4.000000   \n",
      "25%             0.90000    134.000000    0.000000    0.00000   73.000000   \n",
      "50%             1.10000    137.000000    1.000000    0.00000  115.000000   \n",
      "75%             1.40000    140.000000    1.000000    1.00000  203.000000   \n",
      "max             9.40000    148.000000    1.000000    1.00000  285.000000   \n",
      "\n",
      "       DEATH_EVENT  \n",
      "count    299.00000  \n",
      "mean       0.32107  \n",
      "std        0.46767  \n",
      "min        0.00000  \n",
      "25%        0.00000  \n",
      "50%        0.00000  \n",
      "75%        1.00000  \n",
      "max        1.00000  \n"
     ]
    }
   ],
   "source": [
    "print(dataset.describe())"
   ]
  },
  {
   "cell_type": "code",
   "execution_count": 5,
   "id": "chief-sapphire",
   "metadata": {},
   "outputs": [],
   "source": [
    "#import train_test library\n",
    "from sklearn.model_selection import train_test_split\n",
    "train, test= train_test_split(dataset, test_size=0.2, random_state=42, shuffle=True)\n",
    "# what is random_state ,shuffle "
   ]
  },
  {
   "cell_type": "code",
   "execution_count": 6,
   "id": "civic-photography",
   "metadata": {},
   "outputs": [
    {
     "name": "stdout",
     "output_type": "stream",
     "text": [
      "==============train data ===================\n",
      "        age  anaemia  creatinine_phosphokinase  diabetes  ejection_fraction  \\\n",
      "6    75.000        1                       246         0                 15   \n",
      "183  75.000        0                        99         0                 38   \n",
      "185  60.667        1                       104         1                 30   \n",
      "146  52.000        0                       132         0                 30   \n",
      "30   94.000        0                       582         1                 38   \n",
      "\n",
      "     high_blood_pressure  platelets  serum_creatinine  serum_sodium  sex  \\\n",
      "6                      0  127000.00              1.20           137    1   \n",
      "183                    1  224000.00              2.50           134    1   \n",
      "185                    0  389000.00              1.50           136    1   \n",
      "146                    0  218000.00              0.70           136    1   \n",
      "30                     1  263358.03              1.83           134    1   \n",
      "\n",
      "     smoking  time  DEATH_EVENT  \n",
      "6          0    10            1  \n",
      "183        0   162            1  \n",
      "185        0   171            1  \n",
      "146        1   112            0  \n",
      "30         0    27            1  \n",
      "<class 'pandas.core.frame.DataFrame'>\n",
      "Int64Index: 239 entries, 6 to 102\n",
      "Data columns (total 13 columns):\n",
      " #   Column                    Non-Null Count  Dtype  \n",
      "---  ------                    --------------  -----  \n",
      " 0   age                       239 non-null    float64\n",
      " 1   anaemia                   239 non-null    int64  \n",
      " 2   creatinine_phosphokinase  239 non-null    int64  \n",
      " 3   diabetes                  239 non-null    int64  \n",
      " 4   ejection_fraction         239 non-null    int64  \n",
      " 5   high_blood_pressure       239 non-null    int64  \n",
      " 6   platelets                 239 non-null    float64\n",
      " 7   serum_creatinine          239 non-null    float64\n",
      " 8   serum_sodium              239 non-null    int64  \n",
      " 9   sex                       239 non-null    int64  \n",
      " 10  smoking                   239 non-null    int64  \n",
      " 11  time                      239 non-null    int64  \n",
      " 12  DEATH_EVENT               239 non-null    int64  \n",
      "dtypes: float64(3), int64(10)\n",
      "memory usage: 26.1 KB\n",
      "None\n"
     ]
    }
   ],
   "source": [
    "print(\"==============train data ===================\")\n",
    "print(train.head())\n",
    "print(train.info())"
   ]
  },
  {
   "cell_type": "code",
   "execution_count": 7,
   "id": "appropriate-silicon",
   "metadata": {},
   "outputs": [
    {
     "name": "stdout",
     "output_type": "stream",
     "text": [
      "===============test data =======================\n",
      "      age  anaemia  creatinine_phosphokinase  diabetes  ejection_fraction  \\\n",
      "281  70.0        0                       582         0                 40   \n",
      "265  50.0        1                       298         0                 35   \n",
      "164  45.0        0                      2442         1                 30   \n",
      "9    80.0        1                       123         0                 35   \n",
      "77   42.0        0                       102         1                 40   \n",
      "\n",
      "     high_blood_pressure  platelets  serum_creatinine  serum_sodium  sex  \\\n",
      "281                    0    51000.0               2.7           136    1   \n",
      "265                    0   362000.0               0.9           140    1   \n",
      "164                    0   334000.0               1.1           139    1   \n",
      "9                      1   388000.0               9.4           133    1   \n",
      "77                     0   237000.0               1.2           140    1   \n",
      "\n",
      "     smoking  time  DEATH_EVENT  \n",
      "281        1   250            0  \n",
      "265        1   240            0  \n",
      "164        0   129            1  \n",
      "9          1    10            1  \n",
      "77         0    74            0  \n"
     ]
    }
   ],
   "source": [
    "print(\"===============test data =======================\")\n",
    "print(test.head())"
   ]
  },
  {
   "cell_type": "code",
   "execution_count": 8,
   "id": "contained-hunger",
   "metadata": {},
   "outputs": [],
   "source": [
    "train.to_csv(\"heart_train.csv\", index = False)\n",
    "test.to_csv(\"heart_test.csv\", index = False)"
   ]
  },
  {
   "cell_type": "code",
   "execution_count": null,
   "id": "ancient-conspiracy",
   "metadata": {},
   "outputs": [],
   "source": []
  }
 ],
 "metadata": {
  "kernelspec": {
   "display_name": "Python 3",
   "language": "python",
   "name": "python3"
  },
  "language_info": {
   "codemirror_mode": {
    "name": "ipython",
    "version": 3
   },
   "file_extension": ".py",
   "mimetype": "text/x-python",
   "name": "python",
   "nbconvert_exporter": "python",
   "pygments_lexer": "ipython3",
   "version": "3.8.5"
  }
 },
 "nbformat": 4,
 "nbformat_minor": 5
}

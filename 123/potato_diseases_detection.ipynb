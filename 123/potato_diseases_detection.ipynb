{
  "nbformat": 4,
  "nbformat_minor": 5,
  "metadata": {
    "kernelspec": {
      "name": "python3",
      "display_name": "Python 3.8.8 64-bit"
    },
    "language_info": {
      "codemirror_mode": {
        "name": "ipython",
        "version": 3
      },
      "file_extension": ".py",
      "mimetype": "text/x-python",
      "name": "python",
      "nbconvert_exporter": "python",
      "pygments_lexer": "ipython3",
      "version": "3.8.8"
    },
    "interpreter": {
      "hash": "06fbd75ac5dd322759be82a9092c4edf644f2365848b4fc8183df79b0f5651c1"
    },
    "colab": {
      "name": "potato_diseases_detection.ipynb",
      "private_outputs": true,
      "provenance": [],
      "include_colab_link": true
    },
    "accelerator": "GPU"
  },
  "cells": [
    {
      "cell_type": "markdown",
      "metadata": {
        "id": "view-in-github",
        "colab_type": "text"
      },
      "source": [
        "<a href=\"https://colab.research.google.com/github/farhana01/ML-projects/blob/master/123/potato_diseases_detection.ipynb\" target=\"_parent\"><img src=\"https://colab.research.google.com/assets/colab-badge.svg\" alt=\"Open In Colab\"/></a>"
      ]
    },
    {
      "cell_type": "code",
      "metadata": {
        "id": "PIgN9wEi27U6"
      },
      "source": [
        "from google.colab import drive\n",
        "drive.mount('/content/drive')"
      ],
      "id": "PIgN9wEi27U6",
      "execution_count": null,
      "outputs": []
    },
    {
      "cell_type": "markdown",
      "metadata": {
        "id": "Lq0XQ68y24fk"
      },
      "source": [
        "## Importing the dependencies"
      ],
      "id": "Lq0XQ68y24fk"
    },
    {
      "cell_type": "code",
      "metadata": {
        "id": "nESx2yYz24fr"
      },
      "source": [
        "import tensorflow as tf\n",
        "from tensorflow.keras import models, layers\n",
        "import matplotlib.pyplot as plt"
      ],
      "id": "nESx2yYz24fr",
      "execution_count": null,
      "outputs": []
    },
    {
      "cell_type": "markdown",
      "metadata": {
        "id": "37cC65qf24fv"
      },
      "source": [
        "## Import data into tensorflow dataset object"
      ],
      "id": "37cC65qf24fv"
    },
    {
      "cell_type": "code",
      "metadata": {
        "id": "6x-NFlXM24fx"
      },
      "source": [
        "IMAGE_SIZE = 256\n",
        "BATCH_SIZE = 32\n",
        "CHANNELS = 3\n",
        "EPOCH = 50 "
      ],
      "id": "6x-NFlXM24fx",
      "execution_count": null,
      "outputs": []
    },
    {
      "cell_type": "code",
      "metadata": {
        "scrolled": false,
        "id": "kALKv1ff24f3"
      },
      "source": [
        "dataset = tf.keras.preprocessing.image_dataset_from_directory(\n",
        "    \"/content/drive/MyDrive/diseases_prediction/PotatoDIseases\",\n",
        "    seed = 123,\n",
        "    shuffle = True,\n",
        "    image_size = (IMAGE_SIZE,IMAGE_SIZE),\n",
        "    batch_size = BATCH_SIZE\n",
        ")"
      ],
      "id": "kALKv1ff24f3",
      "execution_count": null,
      "outputs": []
    },
    {
      "cell_type": "code",
      "metadata": {
        "id": "UryawGAz24f6"
      },
      "source": [
        "class_names = dataset.class_names\n",
        "class_names"
      ],
      "id": "UryawGAz24f6",
      "execution_count": null,
      "outputs": []
    },
    {
      "cell_type": "code",
      "metadata": {
        "id": "tU0hHWEj24f7"
      },
      "source": [
        "len(dataset)"
      ],
      "id": "tU0hHWEj24f7",
      "execution_count": null,
      "outputs": []
    },
    {
      "cell_type": "code",
      "metadata": {
        "id": "rtKDELmp24f8"
      },
      "source": [
        "for image_batch, label_batch in dataset.take(1):\n",
        "    print(image_batch.shape)\n",
        "    print(label_batch.numpy())"
      ],
      "id": "rtKDELmp24f8",
      "execution_count": null,
      "outputs": []
    },
    {
      "cell_type": "markdown",
      "metadata": {
        "id": "labKZNh224f-"
      },
      "source": [
        "## Visualize some of the images from dataset"
      ],
      "id": "labKZNh224f-"
    },
    {
      "cell_type": "code",
      "metadata": {
        "id": "cIJytftY24gA"
      },
      "source": [
        "plt.figure(figsize= (10,10))\n",
        "for image_batch, label_batch in dataset.take(1):\n",
        "    for i in range(12):\n",
        "        ax = plt.subplot(3,4,i+1)\n",
        "     \n",
        "        plt.imshow(image_batch[i].numpy().astype(\"uint8\"))\n",
        "        plt.title(class_names[label_batch[i]])\n",
        "        plt.axis(\"off\")\n",
        "    "
      ],
      "id": "cIJytftY24gA",
      "execution_count": null,
      "outputs": []
    },
    {
      "cell_type": "markdown",
      "metadata": {
        "id": "NvOGghxx24gB"
      },
      "source": [
        "## Splitting the dataset\n",
        "Dataset should be divided into 3 sets: Training, Validation, Test"
      ],
      "id": "NvOGghxx24gB"
    },
    {
      "cell_type": "code",
      "metadata": {
        "id": "xqo8JeTy24gC"
      },
      "source": [
        "len(dataset)"
      ],
      "id": "xqo8JeTy24gC",
      "execution_count": null,
      "outputs": []
    },
    {
      "cell_type": "code",
      "metadata": {
        "id": "3l3qswoP24gD"
      },
      "source": [
        "train_size = 0.8\n",
        "len(dataset)* train_size"
      ],
      "id": "3l3qswoP24gD",
      "execution_count": null,
      "outputs": []
    },
    {
      "cell_type": "code",
      "metadata": {
        "id": "KlUcGChG24gL"
      },
      "source": [
        "def get_dataset_partitions_tf(ds, train_split=0.8, val_split = 0.1, test_split=0.1, shuffle=True, shuffle_size = 10000):\n",
        "    \n",
        "    assert (train_split + test_split + val_split) == 1, \"split values doesnt sum up to 1\"\n",
        "    ds_size = len(ds)\n",
        "    \n",
        "    if shuffle:\n",
        "        ds= ds.shuffle(shuffle_size, seed= 12)\n",
        "    \n",
        "    train_size = int(train_split * ds_size)\n",
        "    val_size = int(val_split * ds_size)\n",
        "    train_ds = ds.take(train_size)  \n",
        "    val_ds = ds.skip(train_size).take(val_size)\n",
        "    test_ds = ds.skip(train_size).skip(val_size)\n",
        "    return train_ds, val_ds, test_ds"
      ],
      "id": "KlUcGChG24gL",
      "execution_count": null,
      "outputs": []
    },
    {
      "cell_type": "code",
      "metadata": {
        "id": "MAbXQZfM24gM"
      },
      "source": [
        "train_ds, val_ds, test_ds = get_dataset_partitions_tf(dataset)"
      ],
      "id": "MAbXQZfM24gM",
      "execution_count": null,
      "outputs": []
    },
    {
      "cell_type": "code",
      "metadata": {
        "id": "PkEROebM24gN"
      },
      "source": [
        "len(train_ds)"
      ],
      "id": "PkEROebM24gN",
      "execution_count": null,
      "outputs": []
    },
    {
      "cell_type": "code",
      "metadata": {
        "id": "9JGP9tPw24gO"
      },
      "source": [
        "len(val_ds)"
      ],
      "id": "9JGP9tPw24gO",
      "execution_count": null,
      "outputs": []
    },
    {
      "cell_type": "markdown",
      "metadata": {
        "id": "4ckCu5Ne24gO"
      },
      "source": [
        "## Cache, Shuffle, and Prefetch the Dataset"
      ],
      "id": "4ckCu5Ne24gO"
    },
    {
      "cell_type": "code",
      "metadata": {
        "id": "ySN4oR5124gP"
      },
      "source": [
        "train_ds = train_ds.cache().shuffle(1000).prefetch(buffer_size=tf.data.experimental.AUTOTUNE)\n",
        "val_ds = val_ds.cache().shuffle(1000).prefetch(buffer_size=tf.data.experimental.AUTOTUNE)\n",
        "test_ds = test_ds.cache().shuffle(1000).prefetch(buffer_size=tf.data.experimental.AUTOTUNE)"
      ],
      "id": "ySN4oR5124gP",
      "execution_count": null,
      "outputs": []
    },
    {
      "cell_type": "markdown",
      "metadata": {
        "id": "4JW-64B024gP"
      },
      "source": [
        "### Creating a Layer for Resizing and Normalization"
      ],
      "id": "4JW-64B024gP"
    },
    {
      "cell_type": "code",
      "metadata": {
        "id": "QmyPDdec24gP"
      },
      "source": [
        "resize_and_rescale = tf.keras.Sequential([\n",
        "  layers.experimental.preprocessing.Resizing(IMAGE_SIZE, IMAGE_SIZE),\n",
        "  layers.experimental.preprocessing.Rescaling(1./255),\n",
        "])"
      ],
      "id": "QmyPDdec24gP",
      "execution_count": null,
      "outputs": []
    },
    {
      "cell_type": "markdown",
      "metadata": {
        "id": "ibaBh4gl24gQ"
      },
      "source": [
        "### Data Augmentation"
      ],
      "id": "ibaBh4gl24gQ"
    },
    {
      "cell_type": "code",
      "metadata": {
        "id": "jp-6QPwb24gQ"
      },
      "source": [
        "data_augmentation = tf.keras.Sequential([\n",
        "  layers.experimental.preprocessing.RandomFlip(\"horizontal_and_vertical\"),\n",
        "  layers.experimental.preprocessing.RandomRotation(0.2),\n",
        "])"
      ],
      "id": "jp-6QPwb24gQ",
      "execution_count": null,
      "outputs": []
    },
    {
      "cell_type": "markdown",
      "metadata": {
        "id": "7nYPFSvJ24gQ"
      },
      "source": [
        "## Building Model"
      ],
      "id": "7nYPFSvJ24gQ"
    },
    {
      "cell_type": "code",
      "metadata": {
        "id": "UEybGCoG24gQ"
      },
      "source": [
        "input_shape = (BATCH_SIZE, IMAGE_SIZE, IMAGE_SIZE, CHANNELS)\n",
        "n_classes = 3\n",
        "\n",
        "model = models.Sequential([\n",
        "    resize_and_rescale,\n",
        "    data_augmentation,\n",
        "    layers.Conv2D(32, kernel_size = (3,3), activation='relu', input_shape=input_shape),\n",
        "    layers.MaxPooling2D((2, 2)),\n",
        "    layers.Conv2D(64,  kernel_size = (3,3), activation='relu'),\n",
        "    layers.MaxPooling2D((2, 2)),\n",
        "    layers.Conv2D(64,  kernel_size = (3,3), activation='relu'),\n",
        "    layers.MaxPooling2D((2, 2)),\n",
        "    layers.Conv2D(64, (3, 3), activation='relu'),\n",
        "    layers.MaxPooling2D((2, 2)),\n",
        "    layers.Conv2D(64, (3, 3), activation='relu'),\n",
        "    layers.MaxPooling2D((2, 2)),\n",
        "    layers.Conv2D(64, (3, 3), activation='relu'),\n",
        "    layers.MaxPooling2D((2, 2)),\n",
        "    layers.Flatten(),\n",
        "    layers.Dense(64, activation='relu'),\n",
        "    layers.Dense(n_classes, activation='softmax'),\n",
        "])\n",
        "\n",
        "model.build(input_shape=input_shape)"
      ],
      "id": "UEybGCoG24gQ",
      "execution_count": null,
      "outputs": []
    },
    {
      "cell_type": "code",
      "metadata": {
        "id": "i0NVMnI324gR"
      },
      "source": [
        "model.summary()"
      ],
      "id": "i0NVMnI324gR",
      "execution_count": null,
      "outputs": []
    },
    {
      "cell_type": "code",
      "metadata": {
        "id": "ZiA7ErsF24gR"
      },
      "source": [
        "model.compile(\n",
        "    optimizer='adam',\n",
        "    loss=tf.keras.losses.SparseCategoricalCrossentropy(from_logits=False),\n",
        "    metrics=['accuracy']\n",
        ")"
      ],
      "id": "ZiA7ErsF24gR",
      "execution_count": null,
      "outputs": []
    },
    {
      "cell_type": "code",
      "metadata": {
        "id": "MUtUYTmH24gS"
      },
      "source": [
        "history = model.fit(\n",
        "    train_ds,\n",
        "    batch_size=BATCH_SIZE,\n",
        "    validation_data=val_ds,\n",
        "    verbose=1,\n",
        "    epochs=EPOCH,\n",
        ")"
      ],
      "id": "MUtUYTmH24gS",
      "execution_count": null,
      "outputs": []
    },
    {
      "cell_type": "code",
      "metadata": {
        "id": "LnR-kHAj24gS"
      },
      "source": [
        "scores = model.evaluate(test_ds)"
      ],
      "id": "LnR-kHAj24gS",
      "execution_count": null,
      "outputs": []
    },
    {
      "cell_type": "code",
      "metadata": {
        "id": "SOpfO82Y24gT"
      },
      "source": [
        "scores"
      ],
      "id": "SOpfO82Y24gT",
      "execution_count": null,
      "outputs": []
    },
    {
      "cell_type": "markdown",
      "metadata": {
        "id": "qxREWC8u24gT"
      },
      "source": [
        "###  Accuracy and Loss Curves Visualization "
      ],
      "id": "qxREWC8u24gT"
    },
    {
      "cell_type": "code",
      "metadata": {
        "id": "ahMkd2D524gT"
      },
      "source": [
        "history"
      ],
      "id": "ahMkd2D524gT",
      "execution_count": null,
      "outputs": []
    },
    {
      "cell_type": "code",
      "metadata": {
        "id": "88cTCVL924gT"
      },
      "source": [
        "history.params"
      ],
      "id": "88cTCVL924gT",
      "execution_count": null,
      "outputs": []
    },
    {
      "cell_type": "code",
      "metadata": {
        "id": "MymqMptL24gU"
      },
      "source": [
        "history.history.keys()"
      ],
      "id": "MymqMptL24gU",
      "execution_count": null,
      "outputs": []
    },
    {
      "cell_type": "code",
      "metadata": {
        "id": "1_nrXooA24gU"
      },
      "source": [
        "history.history['loss']"
      ],
      "id": "1_nrXooA24gU",
      "execution_count": null,
      "outputs": []
    },
    {
      "cell_type": "code",
      "metadata": {
        "id": "J5Xmj4TM24gV"
      },
      "source": [
        "acc = history.history['accuracy']\n",
        "val_acc = history.history['val_accuracy']\n",
        "\n",
        "loss = history.history['loss']\n",
        "val_loss = history.history['val_loss']"
      ],
      "id": "J5Xmj4TM24gV",
      "execution_count": null,
      "outputs": []
    },
    {
      "cell_type": "code",
      "metadata": {
        "id": "LusQVO-l24gW"
      },
      "source": [
        "plt.figure(figsize=(8, 8))\n",
        "plt.subplot(1, 2, 1)\n",
        "plt.plot(range(EPOCH), acc, label='Training Accuracy')\n",
        "plt.plot(range(EPOCH), val_acc, label='Validation Accuracy')\n",
        "plt.legend(loc='lower right')\n",
        "plt.title('Training and Validation Accuracy')\n",
        "\n",
        "\n",
        "plt.subplot(1, 2, 2)\n",
        "plt.plot(range(EPOCH), loss, label='Training Loss')\n",
        "plt.plot(range(EPOCH), val_loss, label='Validation Loss')\n",
        "plt.legend(loc='upper right')\n",
        "plt.title('Training and Validation Loss')\n",
        "plt.show()"
      ],
      "id": "LusQVO-l24gW",
      "execution_count": null,
      "outputs": []
    },
    {
      "cell_type": "markdown",
      "metadata": {
        "id": "e3HPs5Zs24gY"
      },
      "source": [
        "## Predict on a sample image "
      ],
      "id": "e3HPs5Zs24gY"
    },
    {
      "cell_type": "code",
      "metadata": {
        "id": "KIQJwp7O24gZ"
      },
      "source": [
        "import numpy as np\n",
        "for images_batch, labels_batch in test_ds.take(1):\n",
        "\n",
        "    first_image = images_batch[0].numpy().astype('uint8')\n",
        "    first_label = labels_batch[0].numpy()\n",
        "    print(\"predict disease on a image\")\n",
        "    plt.imshow(first_image)\n",
        "    print(\"actual_label: \", class_names[first_label])\n",
        "\n",
        "    batch_prediction = model.predict(image_batch)\n",
        "    predicted_label= class_names[np.argmax(batch_prediction[0])]\n",
        "    print(predicted_label)"
      ],
      "id": "KIQJwp7O24gZ",
      "execution_count": null,
      "outputs": []
    },
    {
      "cell_type": "markdown",
      "metadata": {
        "id": "mpmSy4FD24ga"
      },
      "source": [
        "### predict on few more sample images "
      ],
      "id": "mpmSy4FD24ga"
    },
    {
      "cell_type": "code",
      "metadata": {
        "id": "rxYXT3f524gb"
      },
      "source": [
        "def predict(model, img):\n",
        "    img_array = tf.keras.preprocessing.image.img_to_array(images[i].numpy())\n",
        "    img_array = tf.expand_dims(img_array, 0)\n",
        "\n",
        "    predictions = model.predict(img_array)\n",
        "\n",
        "    predicted_class = class_names[np.argmax(predictions[0])]\n",
        "    confidence = round(100 * (np.max(predictions[0])), 2)\n",
        "    return predicted_class, confidence"
      ],
      "id": "rxYXT3f524gb",
      "execution_count": null,
      "outputs": []
    },
    {
      "cell_type": "code",
      "metadata": {
        "id": "m0l5C-_q24gb"
      },
      "source": [
        "plt.figure(figsize=(15, 15))\n",
        "for images, labels in test_ds.take(1):\n",
        "    for i in range(12):\n",
        "        ax = plt.subplot(3, 4, i + 1)\n",
        "        plt.imshow(images[i].numpy().astype(\"uint8\"))\n",
        "        \n",
        "        predicted_class, confidence = predict(model, images[i].numpy())\n",
        "        actual_class = class_names[labels[i]] \n",
        "        \n",
        "        plt.title(f\"Actual: {actual_class},\\n Predicted: {predicted_class}.\\n Confidence: {confidence}%\")\n",
        "        \n",
        "        plt.axis(\"off\")"
      ],
      "id": "m0l5C-_q24gb",
      "execution_count": null,
      "outputs": []
    },
    {
      "cell_type": "markdown",
      "metadata": {
        "id": "5AbFgmAe8f1S"
      },
      "source": [
        "## save model in local env"
      ],
      "id": "5AbFgmAe8f1S"
    },
    {
      "cell_type": "code",
      "metadata": {
        "id": "PqwJwNep24gc"
      },
      "source": [
        "#import os\n",
        "#model_version=max([int(i) for i in os.listdir(\"../models\") + [0]])+1\n",
        "#model.save(f\"../models/{model_version}\")"
      ],
      "id": "PqwJwNep24gc",
      "execution_count": null,
      "outputs": []
    },
    {
      "cell_type": "code",
      "metadata": {
        "id": "3iWhtek024gc"
      },
      "source": [
        "#model.save(\"../potatoes.h5\")"
      ],
      "id": "3iWhtek024gc",
      "execution_count": null,
      "outputs": []
    },
    {
      "cell_type": "markdown",
      "metadata": {
        "id": "iS-U7Pe28s1H"
      },
      "source": [
        "### save in colab"
      ],
      "id": "iS-U7Pe28s1H"
    },
    {
      "cell_type": "code",
      "metadata": {
        "id": "7n8JawsC-FFg"
      },
      "source": [
        "model.save('myModel_CNN.h5')"
      ],
      "id": "7n8JawsC-FFg",
      "execution_count": null,
      "outputs": []
    }
  ]
}
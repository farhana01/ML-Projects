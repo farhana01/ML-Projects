{
 "cells": [
  {
   "cell_type": "code",
   "execution_count": 1,
   "id": "2a4ad4b3",
   "metadata": {
    "_cell_guid": "b1076dfc-b9ad-4769-8c92-a6c4dae69d19",
    "_uuid": "8f2839f25d086af736a60e9eeb907d3b93b6e0e5",
    "execution": {
     "iopub.execute_input": "2021-08-05T19:07:22.610231Z",
     "iopub.status.busy": "2021-08-05T19:07:22.609560Z",
     "iopub.status.idle": "2021-08-05T19:07:23.525944Z",
     "shell.execute_reply": "2021-08-05T19:07:23.526440Z",
     "shell.execute_reply.started": "2021-08-05T19:06:48.814048Z"
    },
    "papermill": {
     "duration": 0.971575,
     "end_time": "2021-08-05T19:07:23.526718",
     "exception": false,
     "start_time": "2021-08-05T19:07:22.555143",
     "status": "completed"
    },
    "tags": []
   },
   "outputs": [
    {
     "name": "stdout",
     "output_type": "stream",
     "text": [
      "/kaggle/input/titanic/train.csv\n",
      "/kaggle/input/titanic/test.csv\n",
      "/kaggle/input/titanic/gender_submission.csv\n"
     ]
    }
   ],
   "source": [
    "# This Python 3 environment comes with many helpful analytics libraries installed\n",
    "# It is defined by the kaggle/python Docker image: https://github.com/kaggle/docker-python\n",
    "# For example, here's several helpful packages to load\n",
    "\n",
    "import numpy as np # linear algebra\n",
    "import pandas as pd # data processing, CSV file I/O (e.g. pd.read_csv)\n",
    "import seaborn as sns\n",
    "\n",
    "# Input data files are available in the read-only \"../input/\" directory\n",
    "# For example, running this (by clicking run or pressing Shift+Enter) will list all files under the input directory\n",
    "\n",
    "import os\n",
    "for dirname, _, filenames in os.walk('/kaggle/input'):\n",
    "    for filename in filenames:\n",
    "        print(os.path.join(dirname, filename))\n",
    "\n",
    "# You can write up to 20GB to the current directory (/kaggle/working/) that gets preserved as output when you create a version using \"Save & Run All\" \n",
    "# You can also write temporary files to /kaggle/temp/, but they won't be saved outside of the current session"
   ]
  },
  {
   "cell_type": "markdown",
   "id": "8e3cf956",
   "metadata": {
    "papermill": {
     "duration": 0.037722,
     "end_time": "2021-08-05T19:07:23.603617",
     "exception": false,
     "start_time": "2021-08-05T19:07:23.565895",
     "status": "completed"
    },
    "tags": []
   },
   "source": [
    "# Read the data "
   ]
  },
  {
   "cell_type": "code",
   "execution_count": 2,
   "id": "58f0fc04",
   "metadata": {
    "execution": {
     "iopub.execute_input": "2021-08-05T19:07:23.697859Z",
     "iopub.status.busy": "2021-08-05T19:07:23.696973Z",
     "iopub.status.idle": "2021-08-05T19:07:23.746675Z",
     "shell.execute_reply": "2021-08-05T19:07:23.746176Z",
     "shell.execute_reply.started": "2021-08-05T19:06:49.285349Z"
    },
    "papermill": {
     "duration": 0.104306,
     "end_time": "2021-08-05T19:07:23.746847",
     "exception": false,
     "start_time": "2021-08-05T19:07:23.642541",
     "status": "completed"
    },
    "tags": []
   },
   "outputs": [
    {
     "data": {
      "text/html": [
       "<div>\n",
       "<style scoped>\n",
       "    .dataframe tbody tr th:only-of-type {\n",
       "        vertical-align: middle;\n",
       "    }\n",
       "\n",
       "    .dataframe tbody tr th {\n",
       "        vertical-align: top;\n",
       "    }\n",
       "\n",
       "    .dataframe thead th {\n",
       "        text-align: right;\n",
       "    }\n",
       "</style>\n",
       "<table border=\"1\" class=\"dataframe\">\n",
       "  <thead>\n",
       "    <tr style=\"text-align: right;\">\n",
       "      <th></th>\n",
       "      <th>PassengerId</th>\n",
       "      <th>Survived</th>\n",
       "      <th>Pclass</th>\n",
       "      <th>Name</th>\n",
       "      <th>Sex</th>\n",
       "      <th>Age</th>\n",
       "      <th>SibSp</th>\n",
       "      <th>Parch</th>\n",
       "      <th>Ticket</th>\n",
       "      <th>Fare</th>\n",
       "      <th>Cabin</th>\n",
       "      <th>Embarked</th>\n",
       "    </tr>\n",
       "  </thead>\n",
       "  <tbody>\n",
       "    <tr>\n",
       "      <th>0</th>\n",
       "      <td>1</td>\n",
       "      <td>0</td>\n",
       "      <td>3</td>\n",
       "      <td>Braund, Mr. Owen Harris</td>\n",
       "      <td>male</td>\n",
       "      <td>22.0</td>\n",
       "      <td>1</td>\n",
       "      <td>0</td>\n",
       "      <td>A/5 21171</td>\n",
       "      <td>7.2500</td>\n",
       "      <td>NaN</td>\n",
       "      <td>S</td>\n",
       "    </tr>\n",
       "    <tr>\n",
       "      <th>1</th>\n",
       "      <td>2</td>\n",
       "      <td>1</td>\n",
       "      <td>1</td>\n",
       "      <td>Cumings, Mrs. John Bradley (Florence Briggs Th...</td>\n",
       "      <td>female</td>\n",
       "      <td>38.0</td>\n",
       "      <td>1</td>\n",
       "      <td>0</td>\n",
       "      <td>PC 17599</td>\n",
       "      <td>71.2833</td>\n",
       "      <td>C85</td>\n",
       "      <td>C</td>\n",
       "    </tr>\n",
       "    <tr>\n",
       "      <th>2</th>\n",
       "      <td>3</td>\n",
       "      <td>1</td>\n",
       "      <td>3</td>\n",
       "      <td>Heikkinen, Miss. Laina</td>\n",
       "      <td>female</td>\n",
       "      <td>26.0</td>\n",
       "      <td>0</td>\n",
       "      <td>0</td>\n",
       "      <td>STON/O2. 3101282</td>\n",
       "      <td>7.9250</td>\n",
       "      <td>NaN</td>\n",
       "      <td>S</td>\n",
       "    </tr>\n",
       "    <tr>\n",
       "      <th>3</th>\n",
       "      <td>4</td>\n",
       "      <td>1</td>\n",
       "      <td>1</td>\n",
       "      <td>Futrelle, Mrs. Jacques Heath (Lily May Peel)</td>\n",
       "      <td>female</td>\n",
       "      <td>35.0</td>\n",
       "      <td>1</td>\n",
       "      <td>0</td>\n",
       "      <td>113803</td>\n",
       "      <td>53.1000</td>\n",
       "      <td>C123</td>\n",
       "      <td>S</td>\n",
       "    </tr>\n",
       "    <tr>\n",
       "      <th>4</th>\n",
       "      <td>5</td>\n",
       "      <td>0</td>\n",
       "      <td>3</td>\n",
       "      <td>Allen, Mr. William Henry</td>\n",
       "      <td>male</td>\n",
       "      <td>35.0</td>\n",
       "      <td>0</td>\n",
       "      <td>0</td>\n",
       "      <td>373450</td>\n",
       "      <td>8.0500</td>\n",
       "      <td>NaN</td>\n",
       "      <td>S</td>\n",
       "    </tr>\n",
       "  </tbody>\n",
       "</table>\n",
       "</div>"
      ],
      "text/plain": [
       "   PassengerId  Survived  Pclass  \\\n",
       "0            1         0       3   \n",
       "1            2         1       1   \n",
       "2            3         1       3   \n",
       "3            4         1       1   \n",
       "4            5         0       3   \n",
       "\n",
       "                                                Name     Sex   Age  SibSp  \\\n",
       "0                            Braund, Mr. Owen Harris    male  22.0      1   \n",
       "1  Cumings, Mrs. John Bradley (Florence Briggs Th...  female  38.0      1   \n",
       "2                             Heikkinen, Miss. Laina  female  26.0      0   \n",
       "3       Futrelle, Mrs. Jacques Heath (Lily May Peel)  female  35.0      1   \n",
       "4                           Allen, Mr. William Henry    male  35.0      0   \n",
       "\n",
       "   Parch            Ticket     Fare Cabin Embarked  \n",
       "0      0         A/5 21171   7.2500   NaN        S  \n",
       "1      0          PC 17599  71.2833   C85        C  \n",
       "2      0  STON/O2. 3101282   7.9250   NaN        S  \n",
       "3      0            113803  53.1000  C123        S  \n",
       "4      0            373450   8.0500   NaN        S  "
      ]
     },
     "execution_count": 2,
     "metadata": {},
     "output_type": "execute_result"
    }
   ],
   "source": [
    "train_data = pd.read_csv(\"/kaggle/input/titanic/train.csv\")\n",
    "train_data.head()"
   ]
  },
  {
   "cell_type": "code",
   "execution_count": 3,
   "id": "952e6808",
   "metadata": {
    "execution": {
     "iopub.execute_input": "2021-08-05T19:07:23.830678Z",
     "iopub.status.busy": "2021-08-05T19:07:23.829951Z",
     "iopub.status.idle": "2021-08-05T19:07:23.854592Z",
     "shell.execute_reply": "2021-08-05T19:07:23.854069Z",
     "shell.execute_reply.started": "2021-08-05T19:06:49.317824Z"
    },
    "papermill": {
     "duration": 0.067707,
     "end_time": "2021-08-05T19:07:23.854724",
     "exception": false,
     "start_time": "2021-08-05T19:07:23.787017",
     "status": "completed"
    },
    "tags": []
   },
   "outputs": [
    {
     "data": {
      "text/html": [
       "<div>\n",
       "<style scoped>\n",
       "    .dataframe tbody tr th:only-of-type {\n",
       "        vertical-align: middle;\n",
       "    }\n",
       "\n",
       "    .dataframe tbody tr th {\n",
       "        vertical-align: top;\n",
       "    }\n",
       "\n",
       "    .dataframe thead th {\n",
       "        text-align: right;\n",
       "    }\n",
       "</style>\n",
       "<table border=\"1\" class=\"dataframe\">\n",
       "  <thead>\n",
       "    <tr style=\"text-align: right;\">\n",
       "      <th></th>\n",
       "      <th>PassengerId</th>\n",
       "      <th>Pclass</th>\n",
       "      <th>Name</th>\n",
       "      <th>Sex</th>\n",
       "      <th>Age</th>\n",
       "      <th>SibSp</th>\n",
       "      <th>Parch</th>\n",
       "      <th>Ticket</th>\n",
       "      <th>Fare</th>\n",
       "      <th>Cabin</th>\n",
       "      <th>Embarked</th>\n",
       "    </tr>\n",
       "  </thead>\n",
       "  <tbody>\n",
       "    <tr>\n",
       "      <th>0</th>\n",
       "      <td>892</td>\n",
       "      <td>3</td>\n",
       "      <td>Kelly, Mr. James</td>\n",
       "      <td>male</td>\n",
       "      <td>34.5</td>\n",
       "      <td>0</td>\n",
       "      <td>0</td>\n",
       "      <td>330911</td>\n",
       "      <td>7.8292</td>\n",
       "      <td>NaN</td>\n",
       "      <td>Q</td>\n",
       "    </tr>\n",
       "    <tr>\n",
       "      <th>1</th>\n",
       "      <td>893</td>\n",
       "      <td>3</td>\n",
       "      <td>Wilkes, Mrs. James (Ellen Needs)</td>\n",
       "      <td>female</td>\n",
       "      <td>47.0</td>\n",
       "      <td>1</td>\n",
       "      <td>0</td>\n",
       "      <td>363272</td>\n",
       "      <td>7.0000</td>\n",
       "      <td>NaN</td>\n",
       "      <td>S</td>\n",
       "    </tr>\n",
       "    <tr>\n",
       "      <th>2</th>\n",
       "      <td>894</td>\n",
       "      <td>2</td>\n",
       "      <td>Myles, Mr. Thomas Francis</td>\n",
       "      <td>male</td>\n",
       "      <td>62.0</td>\n",
       "      <td>0</td>\n",
       "      <td>0</td>\n",
       "      <td>240276</td>\n",
       "      <td>9.6875</td>\n",
       "      <td>NaN</td>\n",
       "      <td>Q</td>\n",
       "    </tr>\n",
       "    <tr>\n",
       "      <th>3</th>\n",
       "      <td>895</td>\n",
       "      <td>3</td>\n",
       "      <td>Wirz, Mr. Albert</td>\n",
       "      <td>male</td>\n",
       "      <td>27.0</td>\n",
       "      <td>0</td>\n",
       "      <td>0</td>\n",
       "      <td>315154</td>\n",
       "      <td>8.6625</td>\n",
       "      <td>NaN</td>\n",
       "      <td>S</td>\n",
       "    </tr>\n",
       "    <tr>\n",
       "      <th>4</th>\n",
       "      <td>896</td>\n",
       "      <td>3</td>\n",
       "      <td>Hirvonen, Mrs. Alexander (Helga E Lindqvist)</td>\n",
       "      <td>female</td>\n",
       "      <td>22.0</td>\n",
       "      <td>1</td>\n",
       "      <td>1</td>\n",
       "      <td>3101298</td>\n",
       "      <td>12.2875</td>\n",
       "      <td>NaN</td>\n",
       "      <td>S</td>\n",
       "    </tr>\n",
       "  </tbody>\n",
       "</table>\n",
       "</div>"
      ],
      "text/plain": [
       "   PassengerId  Pclass                                          Name     Sex  \\\n",
       "0          892       3                              Kelly, Mr. James    male   \n",
       "1          893       3              Wilkes, Mrs. James (Ellen Needs)  female   \n",
       "2          894       2                     Myles, Mr. Thomas Francis    male   \n",
       "3          895       3                              Wirz, Mr. Albert    male   \n",
       "4          896       3  Hirvonen, Mrs. Alexander (Helga E Lindqvist)  female   \n",
       "\n",
       "    Age  SibSp  Parch   Ticket     Fare Cabin Embarked  \n",
       "0  34.5      0      0   330911   7.8292   NaN        Q  \n",
       "1  47.0      1      0   363272   7.0000   NaN        S  \n",
       "2  62.0      0      0   240276   9.6875   NaN        Q  \n",
       "3  27.0      0      0   315154   8.6625   NaN        S  \n",
       "4  22.0      1      1  3101298  12.2875   NaN        S  "
      ]
     },
     "execution_count": 3,
     "metadata": {},
     "output_type": "execute_result"
    }
   ],
   "source": [
    "test_data = pd.read_csv(\"/kaggle/input/titanic/test.csv\")\n",
    "test_data.head()"
   ]
  },
  {
   "cell_type": "markdown",
   "id": "bd62c58e",
   "metadata": {
    "papermill": {
     "duration": 0.039839,
     "end_time": "2021-08-05T19:07:23.934109",
     "exception": false,
     "start_time": "2021-08-05T19:07:23.894270",
     "status": "completed"
    },
    "tags": []
   },
   "source": [
    "# Explore a pattern"
   ]
  },
  {
   "cell_type": "code",
   "execution_count": 4,
   "id": "643cffeb",
   "metadata": {
    "execution": {
     "iopub.execute_input": "2021-08-05T19:07:24.017867Z",
     "iopub.status.busy": "2021-08-05T19:07:24.017239Z",
     "iopub.status.idle": "2021-08-05T19:07:24.028166Z",
     "shell.execute_reply": "2021-08-05T19:07:24.028642Z",
     "shell.execute_reply.started": "2021-08-05T19:06:49.342039Z"
    },
    "papermill": {
     "duration": 0.054332,
     "end_time": "2021-08-05T19:07:24.028834",
     "exception": false,
     "start_time": "2021-08-05T19:07:23.974502",
     "status": "completed"
    },
    "tags": []
   },
   "outputs": [
    {
     "name": "stdout",
     "output_type": "stream",
     "text": [
      "% of women who survived: 0.7420382165605095\n"
     ]
    }
   ],
   "source": [
    "women = train_data.loc[train_data.Sex == 'female'][\"Survived\"]\n",
    "rate_women = sum(women)/len(women)\n",
    "\n",
    "print(\"% of women who survived:\", rate_women)"
   ]
  },
  {
   "cell_type": "code",
   "execution_count": 5,
   "id": "3d96392d",
   "metadata": {
    "execution": {
     "iopub.execute_input": "2021-08-05T19:07:24.114464Z",
     "iopub.status.busy": "2021-08-05T19:07:24.113215Z",
     "iopub.status.idle": "2021-08-05T19:07:24.119341Z",
     "shell.execute_reply": "2021-08-05T19:07:24.120164Z",
     "shell.execute_reply.started": "2021-08-05T19:06:49.353694Z"
    },
    "papermill": {
     "duration": 0.051847,
     "end_time": "2021-08-05T19:07:24.120409",
     "exception": false,
     "start_time": "2021-08-05T19:07:24.068562",
     "status": "completed"
    },
    "tags": []
   },
   "outputs": [
    {
     "name": "stdout",
     "output_type": "stream",
     "text": [
      "% of men who survived: 0.18890814558058924\n"
     ]
    }
   ],
   "source": [
    "men = train_data.loc[train_data.Sex == 'male'][\"Survived\"]\n",
    "rate_men = sum(men)/len(men)\n",
    "\n",
    "print(\"% of men who survived:\", rate_men)"
   ]
  },
  {
   "cell_type": "markdown",
   "id": "5089ca86",
   "metadata": {
    "papermill": {
     "duration": 0.039928,
     "end_time": "2021-08-05T19:07:24.200639",
     "exception": false,
     "start_time": "2021-08-05T19:07:24.160711",
     "status": "completed"
    },
    "tags": []
   },
   "source": [
    "# EDA on dataset"
   ]
  },
  {
   "cell_type": "code",
   "execution_count": 6,
   "id": "2d3ce65c",
   "metadata": {
    "execution": {
     "iopub.execute_input": "2021-08-05T19:07:24.291215Z",
     "iopub.status.busy": "2021-08-05T19:07:24.290388Z",
     "iopub.status.idle": "2021-08-05T19:07:24.294495Z",
     "shell.execute_reply": "2021-08-05T19:07:24.293878Z",
     "shell.execute_reply.started": "2021-08-05T19:06:49.368142Z"
    },
    "papermill": {
     "duration": 0.053633,
     "end_time": "2021-08-05T19:07:24.294630",
     "exception": false,
     "start_time": "2021-08-05T19:07:24.240997",
     "status": "completed"
    },
    "tags": []
   },
   "outputs": [
    {
     "data": {
      "text/plain": [
       "PassengerId      0\n",
       "Survived         0\n",
       "Pclass           0\n",
       "Name             0\n",
       "Sex              0\n",
       "Age            177\n",
       "SibSp            0\n",
       "Parch            0\n",
       "Ticket           0\n",
       "Fare             0\n",
       "Cabin          687\n",
       "Embarked         2\n",
       "dtype: int64"
      ]
     },
     "execution_count": 6,
     "metadata": {},
     "output_type": "execute_result"
    }
   ],
   "source": [
    "train_data.isnull().sum()"
   ]
  },
  {
   "cell_type": "code",
   "execution_count": 7,
   "id": "91e1c871",
   "metadata": {
    "execution": {
     "iopub.execute_input": "2021-08-05T19:07:24.384152Z",
     "iopub.status.busy": "2021-08-05T19:07:24.383113Z",
     "iopub.status.idle": "2021-08-05T19:07:24.743460Z",
     "shell.execute_reply": "2021-08-05T19:07:24.742609Z",
     "shell.execute_reply.started": "2021-08-05T19:06:49.383650Z"
    },
    "papermill": {
     "duration": 0.408332,
     "end_time": "2021-08-05T19:07:24.743664",
     "exception": false,
     "start_time": "2021-08-05T19:07:24.335332",
     "status": "completed"
    },
    "tags": []
   },
   "outputs": [
    {
     "data": {
      "text/plain": [
       "<AxesSubplot:>"
      ]
     },
     "execution_count": 7,
     "metadata": {},
     "output_type": "execute_result"
    },
    {
     "data": {
      "image/png": "[encoded data removed]",
      "text/plain": [
       "<Figure size 432x288 with 2 Axes>"
      ]
     },
     "metadata": {
      "needs_background": "light"
     },
     "output_type": "display_data"
    }
   ],
   "source": [
    "sns.heatmap(train_data.isnull(), yticklabels = False)"
   ]
  },
  {
   "cell_type": "code",
   "execution_count": 8,
   "id": "eb6712fa",
   "metadata": {
    "execution": {
     "iopub.execute_input": "2021-08-05T19:07:24.841108Z",
     "iopub.status.busy": "2021-08-05T19:07:24.840399Z",
     "iopub.status.idle": "2021-08-05T19:07:24.980682Z",
     "shell.execute_reply": "2021-08-05T19:07:24.981193Z",
     "shell.execute_reply.started": "2021-08-05T19:06:49.696565Z"
    },
    "papermill": {
     "duration": 0.186682,
     "end_time": "2021-08-05T19:07:24.981363",
     "exception": false,
     "start_time": "2021-08-05T19:07:24.794681",
     "status": "completed"
    },
    "tags": []
   },
   "outputs": [
    {
     "name": "stderr",
     "output_type": "stream",
     "text": [
      "/opt/conda/lib/python3.7/site-packages/seaborn/_decorators.py:43: FutureWarning: Pass the following variable as a keyword arg: x. From version 0.12, the only valid positional argument will be `data`, and passing other arguments without an explicit keyword will result in an error or misinterpretation.\n",
      "  FutureWarning\n"
     ]
    },
    {
     "data": {
      "text/plain": [
       "<AxesSubplot:xlabel='Survived', ylabel='count'>"
      ]
     },
     "execution_count": 8,
     "metadata": {},
     "output_type": "execute_result"
    },
    {
     "data": {
      "image/png": "[encoded data removed]",
      "text/plain": [
       "<Figure size 432x288 with 1 Axes>"
      ]
     },
     "metadata": {},
     "output_type": "display_data"
    }
   ],
   "source": [
    "sns.set_style('whitegrid')\n",
    "sns.countplot(train_data['Survived'])"
   ]
  },
  {
   "cell_type": "code",
   "execution_count": 9,
   "id": "10a777b1",
   "metadata": {
    "execution": {
     "iopub.execute_input": "2021-08-05T19:07:25.070420Z",
     "iopub.status.busy": "2021-08-05T19:07:25.069786Z",
     "iopub.status.idle": "2021-08-05T19:07:25.285624Z",
     "shell.execute_reply": "2021-08-05T19:07:25.285066Z",
     "shell.execute_reply.started": "2021-08-05T19:06:49.844050Z"
    },
    "papermill": {
     "duration": 0.261391,
     "end_time": "2021-08-05T19:07:25.285777",
     "exception": false,
     "start_time": "2021-08-05T19:07:25.024386",
     "status": "completed"
    },
    "tags": []
   },
   "outputs": [
    {
     "data": {
      "text/plain": [
       "<AxesSubplot:xlabel='Survived', ylabel='count'>"
      ]
     },
     "execution_count": 9,
     "metadata": {},
     "output_type": "execute_result"
    },
    {
     "data": {
      "image/png": "[encoded data removed]",
      "text/plain": [
       "<Figure size 432x288 with 1 Axes>"
      ]
     },
     "metadata": {},
     "output_type": "display_data"
    }
   ],
   "source": [
    "sns.set_style('whitegrid')\n",
    "sns.countplot(x='Survived', hue='Pclass', data=train_data)"
   ]
  },
  {
   "cell_type": "code",
   "execution_count": 10,
   "id": "8cb985b7",
   "metadata": {
    "execution": {
     "iopub.execute_input": "2021-08-05T19:07:25.379592Z",
     "iopub.status.busy": "2021-08-05T19:07:25.378934Z",
     "iopub.status.idle": "2021-08-05T19:07:25.697064Z",
     "shell.execute_reply": "2021-08-05T19:07:25.696445Z",
     "shell.execute_reply.started": "2021-08-05T19:06:50.061542Z"
    },
    "papermill": {
     "duration": 0.366889,
     "end_time": "2021-08-05T19:07:25.697244",
     "exception": false,
     "start_time": "2021-08-05T19:07:25.330355",
     "status": "completed"
    },
    "tags": []
   },
   "outputs": [
    {
     "name": "stderr",
     "output_type": "stream",
     "text": [
      "/opt/conda/lib/python3.7/site-packages/seaborn/distributions.py:2557: FutureWarning: `distplot` is a deprecated function and will be removed in a future version. Please adapt your code to use either `displot` (a figure-level function with similar flexibility) or `histplot` (an axes-level function for histograms).\n",
      "  warnings.warn(msg, FutureWarning)\n"
     ]
    },
    {
     "data": {
      "text/plain": [
       "<AxesSubplot:xlabel='Age'>"
      ]
     },
     "execution_count": 10,
     "metadata": {},
     "output_type": "execute_result"
    },
    {
     "data": {
      "image/png": "[encoded data removed]",
      "text/plain": [
       "<Figure size 432x288 with 1 Axes>"
      ]
     },
     "metadata": {},
     "output_type": "display_data"
    }
   ],
   "source": [
    "sns.distplot(train_data['Age'].dropna(), kde= False, bins = 40)"
   ]
  },
  {
   "cell_type": "code",
   "execution_count": 11,
   "id": "5c5f4627",
   "metadata": {
    "execution": {
     "iopub.execute_input": "2021-08-05T19:07:25.794493Z",
     "iopub.status.busy": "2021-08-05T19:07:25.793611Z",
     "iopub.status.idle": "2021-08-05T19:07:26.116936Z",
     "shell.execute_reply": "2021-08-05T19:07:26.117394Z",
     "shell.execute_reply.started": "2021-08-05T19:06:50.392321Z"
    },
    "papermill": {
     "duration": 0.374142,
     "end_time": "2021-08-05T19:07:26.117561",
     "exception": false,
     "start_time": "2021-08-05T19:07:25.743419",
     "status": "completed"
    },
    "tags": []
   },
   "outputs": [
    {
     "data": {
      "text/plain": [
       "<AxesSubplot:>"
      ]
     },
     "execution_count": 11,
     "metadata": {},
     "output_type": "execute_result"
    },
    {
     "data": {
      "image/png": "[encoded data removed]",
      "text/plain": [
       "<Figure size 432x288 with 1 Axes>"
      ]
     },
     "metadata": {},
     "output_type": "display_data"
    }
   ],
   "source": [
    "train_data['Age'].hist(bins=40)"
   ]
  },
  {
   "cell_type": "code",
   "execution_count": 12,
   "id": "733e4b08",
   "metadata": {
    "execution": {
     "iopub.execute_input": "2021-08-05T19:07:26.221205Z",
     "iopub.status.busy": "2021-08-05T19:07:26.216738Z",
     "iopub.status.idle": "2021-08-05T19:07:26.524217Z",
     "shell.execute_reply": "2021-08-05T19:07:26.523105Z",
     "shell.execute_reply.started": "2021-08-05T19:06:50.717233Z"
    },
    "papermill": {
     "duration": 0.360872,
     "end_time": "2021-08-05T19:07:26.524366",
     "exception": false,
     "start_time": "2021-08-05T19:07:26.163494",
     "status": "completed"
    },
    "tags": []
   },
   "outputs": [
    {
     "data": {
      "text/plain": [
       "<AxesSubplot:xlabel='SibSp', ylabel='count'>"
      ]
     },
     "execution_count": 12,
     "metadata": {},
     "output_type": "execute_result"
    },
    {
     "data": {
      "image/png": "[encoded data removed]",
      "text/plain": [
       "<Figure size 432x288 with 1 Axes>"
      ]
     },
     "metadata": {},
     "output_type": "display_data"
    }
   ],
   "source": [
    "sns.countplot(x='SibSp',data=train_data)"
   ]
  },
  {
   "cell_type": "markdown",
   "id": "9df076ab",
   "metadata": {
    "papermill": {
     "duration": 0.046729,
     "end_time": "2021-08-05T19:07:26.618414",
     "exception": false,
     "start_time": "2021-08-05T19:07:26.571685",
     "status": "completed"
    },
    "tags": []
   },
   "source": [
    "# Filling Missing Data"
   ]
  },
  {
   "cell_type": "code",
   "execution_count": 13,
   "id": "576ebedf",
   "metadata": {
    "execution": {
     "iopub.execute_input": "2021-08-05T19:07:26.718543Z",
     "iopub.status.busy": "2021-08-05T19:07:26.717892Z",
     "iopub.status.idle": "2021-08-05T19:07:26.923772Z",
     "shell.execute_reply": "2021-08-05T19:07:26.923236Z",
     "shell.execute_reply.started": "2021-08-05T19:06:51.043188Z"
    },
    "papermill": {
     "duration": 0.258423,
     "end_time": "2021-08-05T19:07:26.923933",
     "exception": false,
     "start_time": "2021-08-05T19:07:26.665510",
     "status": "completed"
    },
    "tags": []
   },
   "outputs": [
    {
     "data": {
      "text/plain": [
       "<AxesSubplot:xlabel='Pclass', ylabel='Age'>"
      ]
     },
     "execution_count": 13,
     "metadata": {},
     "output_type": "execute_result"
    },
    {
     "data": {
      "image/png": "[encoded data removed]",
      "text/plain": [
       "<Figure size 432x288 with 1 Axes>"
      ]
     },
     "metadata": {},
     "output_type": "display_data"
    }
   ],
   "source": [
    "sns.boxplot(x='Pclass',y='Age',data=train_data)"
   ]
  },
  {
   "cell_type": "code",
   "execution_count": 14,
   "id": "b4d0eab2",
   "metadata": {
    "execution": {
     "iopub.execute_input": "2021-08-05T19:07:27.026608Z",
     "iopub.status.busy": "2021-08-05T19:07:27.025933Z",
     "iopub.status.idle": "2021-08-05T19:07:27.028361Z",
     "shell.execute_reply": "2021-08-05T19:07:27.028848Z",
     "shell.execute_reply.started": "2021-08-05T19:06:51.256689Z"
    },
    "papermill": {
     "duration": 0.056899,
     "end_time": "2021-08-05T19:07:27.029018",
     "exception": false,
     "start_time": "2021-08-05T19:07:26.972119",
     "status": "completed"
    },
    "tags": []
   },
   "outputs": [],
   "source": [
    "def impute_age(cols):\n",
    "    Age = cols[0]\n",
    "    Pclass = cols[1]\n",
    "    \n",
    "    if pd.isnull(Age):\n",
    "\n",
    "        if Pclass == 1:\n",
    "            return 37\n",
    "\n",
    "        elif Pclass == 2:\n",
    "            return 29\n",
    "\n",
    "        else:\n",
    "            return 24\n",
    "\n",
    "    else:\n",
    "        return Age"
   ]
  },
  {
   "cell_type": "markdown",
   "id": "c24b10d1",
   "metadata": {
    "papermill": {
     "duration": 0.048559,
     "end_time": "2021-08-05T19:07:27.126974",
     "exception": false,
     "start_time": "2021-08-05T19:07:27.078415",
     "status": "completed"
    },
    "tags": []
   },
   "source": [
    "### On train set"
   ]
  },
  {
   "cell_type": "code",
   "execution_count": 15,
   "id": "c91fc311",
   "metadata": {
    "execution": {
     "iopub.execute_input": "2021-08-05T19:07:27.230472Z",
     "iopub.status.busy": "2021-08-05T19:07:27.229839Z",
     "iopub.status.idle": "2021-08-05T19:07:27.247698Z",
     "shell.execute_reply": "2021-08-05T19:07:27.248199Z",
     "shell.execute_reply.started": "2021-08-05T19:06:51.265208Z"
    },
    "papermill": {
     "duration": 0.072819,
     "end_time": "2021-08-05T19:07:27.248404",
     "exception": false,
     "start_time": "2021-08-05T19:07:27.175585",
     "status": "completed"
    },
    "tags": []
   },
   "outputs": [],
   "source": [
    "train_data['Age'] = train_data[['Age','Pclass']].apply(impute_age,axis=1)"
   ]
  },
  {
   "cell_type": "code",
   "execution_count": 16,
   "id": "0cdd390b",
   "metadata": {
    "execution": {
     "iopub.execute_input": "2021-08-05T19:07:27.353854Z",
     "iopub.status.busy": "2021-08-05T19:07:27.352863Z",
     "iopub.status.idle": "2021-08-05T19:07:27.727077Z",
     "shell.execute_reply": "2021-08-05T19:07:27.726500Z",
     "shell.execute_reply.started": "2021-08-05T19:06:51.293624Z"
    },
    "papermill": {
     "duration": 0.430125,
     "end_time": "2021-08-05T19:07:27.727215",
     "exception": false,
     "start_time": "2021-08-05T19:07:27.297090",
     "status": "completed"
    },
    "tags": []
   },
   "outputs": [
    {
     "data": {
      "text/plain": [
       "<AxesSubplot:>"
      ]
     },
     "execution_count": 16,
     "metadata": {},
     "output_type": "execute_result"
    },
    {
     "data": {
      "image/png": "[encoded data removed]",
      "text/plain": [
       "<Figure size 432x288 with 2 Axes>"
      ]
     },
     "metadata": {},
     "output_type": "display_data"
    }
   ],
   "source": [
    "sns.heatmap(train_data.isnull(),yticklabels=False)"
   ]
  },
  {
   "cell_type": "markdown",
   "id": "887ac027",
   "metadata": {
    "papermill": {
     "duration": 0.051223,
     "end_time": "2021-08-05T19:07:27.827587",
     "exception": false,
     "start_time": "2021-08-05T19:07:27.776364",
     "status": "completed"
    },
    "tags": []
   },
   "source": [
    "### On test set "
   ]
  },
  {
   "cell_type": "code",
   "execution_count": 17,
   "id": "c68e03c2",
   "metadata": {
    "execution": {
     "iopub.execute_input": "2021-08-05T19:07:27.935769Z",
     "iopub.status.busy": "2021-08-05T19:07:27.930478Z",
     "iopub.status.idle": "2021-08-05T19:07:27.939471Z",
     "shell.execute_reply": "2021-08-05T19:07:27.938923Z",
     "shell.execute_reply.started": "2021-08-05T19:06:51.636077Z"
    },
    "papermill": {
     "duration": 0.061189,
     "end_time": "2021-08-05T19:07:27.939611",
     "exception": false,
     "start_time": "2021-08-05T19:07:27.878422",
     "status": "completed"
    },
    "tags": []
   },
   "outputs": [
    {
     "data": {
      "text/plain": [
       "PassengerId      0\n",
       "Pclass           0\n",
       "Name             0\n",
       "Sex              0\n",
       "Age             86\n",
       "SibSp            0\n",
       "Parch            0\n",
       "Ticket           0\n",
       "Fare             1\n",
       "Cabin          327\n",
       "Embarked         0\n",
       "dtype: int64"
      ]
     },
     "execution_count": 17,
     "metadata": {},
     "output_type": "execute_result"
    }
   ],
   "source": [
    "test_data.isnull().sum()"
   ]
  },
  {
   "cell_type": "code",
   "execution_count": 18,
   "id": "e60ef94d",
   "metadata": {
    "execution": {
     "iopub.execute_input": "2021-08-05T19:07:28.043726Z",
     "iopub.status.busy": "2021-08-05T19:07:28.043113Z",
     "iopub.status.idle": "2021-08-05T19:07:28.389546Z",
     "shell.execute_reply": "2021-08-05T19:07:28.390036Z",
     "shell.execute_reply.started": "2021-08-05T19:06:51.647907Z"
    },
    "papermill": {
     "duration": 0.39918,
     "end_time": "2021-08-05T19:07:28.390220",
     "exception": false,
     "start_time": "2021-08-05T19:07:27.991040",
     "status": "completed"
    },
    "tags": []
   },
   "outputs": [
    {
     "data": {
      "text/plain": [
       "<AxesSubplot:>"
      ]
     },
     "execution_count": 18,
     "metadata": {},
     "output_type": "execute_result"
    },
    {
     "data": {
      "image/png": "[encoded data removed]",
      "text/plain": [
       "<Figure size 432x288 with 2 Axes>"
      ]
     },
     "metadata": {},
     "output_type": "display_data"
    }
   ],
   "source": [
    "sns.heatmap(test_data.isnull(),yticklabels=False)"
   ]
  },
  {
   "cell_type": "code",
   "execution_count": 19,
   "id": "ff8a5218",
   "metadata": {
    "execution": {
     "iopub.execute_input": "2021-08-05T19:07:28.495368Z",
     "iopub.status.busy": "2021-08-05T19:07:28.494718Z",
     "iopub.status.idle": "2021-08-05T19:07:28.514635Z",
     "shell.execute_reply": "2021-08-05T19:07:28.515161Z",
     "shell.execute_reply.started": "2021-08-05T19:06:51.974439Z"
    },
    "papermill": {
     "duration": 0.073974,
     "end_time": "2021-08-05T19:07:28.515354",
     "exception": false,
     "start_time": "2021-08-05T19:07:28.441380",
     "status": "completed"
    },
    "tags": []
   },
   "outputs": [],
   "source": [
    "test_data['Age'] = train_data[['Age','Pclass']].apply(impute_age,axis=1)"
   ]
  },
  {
   "cell_type": "markdown",
   "id": "dd33d862",
   "metadata": {
    "papermill": {
     "duration": 0.050586,
     "end_time": "2021-08-05T19:07:28.617110",
     "exception": false,
     "start_time": "2021-08-05T19:07:28.566524",
     "status": "completed"
    },
    "tags": []
   },
   "source": [
    "### Drop \"Cabin\" column from train and test set"
   ]
  },
  {
   "cell_type": "code",
   "execution_count": 20,
   "id": "483f2279",
   "metadata": {
    "execution": {
     "iopub.execute_input": "2021-08-05T19:07:28.725670Z",
     "iopub.status.busy": "2021-08-05T19:07:28.724998Z",
     "iopub.status.idle": "2021-08-05T19:07:28.727725Z",
     "shell.execute_reply": "2021-08-05T19:07:28.728202Z",
     "shell.execute_reply.started": "2021-08-05T19:06:51.998872Z"
    },
    "papermill": {
     "duration": 0.06011,
     "end_time": "2021-08-05T19:07:28.728390",
     "exception": false,
     "start_time": "2021-08-05T19:07:28.668280",
     "status": "completed"
    },
    "tags": []
   },
   "outputs": [],
   "source": [
    "train_data.drop('Cabin', axis =1, inplace= True)"
   ]
  },
  {
   "cell_type": "code",
   "execution_count": 21,
   "id": "63e5f998",
   "metadata": {
    "execution": {
     "iopub.execute_input": "2021-08-05T19:07:28.859959Z",
     "iopub.status.busy": "2021-08-05T19:07:28.859271Z",
     "iopub.status.idle": "2021-08-05T19:07:29.191899Z",
     "shell.execute_reply": "2021-08-05T19:07:29.191040Z",
     "shell.execute_reply.started": "2021-08-05T19:06:52.008788Z"
    },
    "papermill": {
     "duration": 0.412086,
     "end_time": "2021-08-05T19:07:29.192050",
     "exception": false,
     "start_time": "2021-08-05T19:07:28.779964",
     "status": "completed"
    },
    "tags": []
   },
   "outputs": [
    {
     "data": {
      "text/plain": [
       "<AxesSubplot:>"
      ]
     },
     "execution_count": 21,
     "metadata": {},
     "output_type": "execute_result"
    },
    {
     "data": {
      "image/png": "[encoded data removed]",
      "text/plain": [
       "<Figure size 432x288 with 2 Axes>"
      ]
     },
     "metadata": {},
     "output_type": "display_data"
    }
   ],
   "source": [
    "sns.heatmap(train_data.isnull(),yticklabels=False)"
   ]
  },
  {
   "cell_type": "code",
   "execution_count": 22,
   "id": "ee1e1058",
   "metadata": {
    "execution": {
     "iopub.execute_input": "2021-08-05T19:07:29.306030Z",
     "iopub.status.busy": "2021-08-05T19:07:29.304991Z",
     "iopub.status.idle": "2021-08-05T19:07:29.308422Z",
     "shell.execute_reply": "2021-08-05T19:07:29.307592Z",
     "shell.execute_reply.started": "2021-08-05T19:06:52.340880Z"
    },
    "papermill": {
     "duration": 0.064065,
     "end_time": "2021-08-05T19:07:29.308566",
     "exception": false,
     "start_time": "2021-08-05T19:07:29.244501",
     "status": "completed"
    },
    "tags": []
   },
   "outputs": [],
   "source": [
    "test_data.drop('Cabin', axis =1, inplace= True)"
   ]
  },
  {
   "cell_type": "code",
   "execution_count": 23,
   "id": "d1e74e9a",
   "metadata": {
    "execution": {
     "iopub.execute_input": "2021-08-05T19:07:29.420173Z",
     "iopub.status.busy": "2021-08-05T19:07:29.419427Z",
     "iopub.status.idle": "2021-08-05T19:07:29.422109Z",
     "shell.execute_reply": "2021-08-05T19:07:29.422554Z",
     "shell.execute_reply.started": "2021-08-05T19:06:52.349677Z"
    },
    "papermill": {
     "duration": 0.061712,
     "end_time": "2021-08-05T19:07:29.422735",
     "exception": false,
     "start_time": "2021-08-05T19:07:29.361023",
     "status": "completed"
    },
    "tags": []
   },
   "outputs": [],
   "source": [
    "test_data['Fare'].fillna((test_data['Fare'].mean()),inplace=True)"
   ]
  },
  {
   "cell_type": "code",
   "execution_count": 24,
   "id": "cd65713c",
   "metadata": {
    "execution": {
     "iopub.execute_input": "2021-08-05T19:07:29.530461Z",
     "iopub.status.busy": "2021-08-05T19:07:29.529776Z",
     "iopub.status.idle": "2021-08-05T19:07:29.537228Z",
     "shell.execute_reply": "2021-08-05T19:07:29.537678Z",
     "shell.execute_reply.started": "2021-08-05T19:06:52.362865Z"
    },
    "papermill": {
     "duration": 0.063064,
     "end_time": "2021-08-05T19:07:29.537858",
     "exception": false,
     "start_time": "2021-08-05T19:07:29.474794",
     "status": "completed"
    },
    "tags": []
   },
   "outputs": [
    {
     "data": {
      "text/plain": [
       "PassengerId    0\n",
       "Pclass         0\n",
       "Name           0\n",
       "Sex            0\n",
       "Age            0\n",
       "SibSp          0\n",
       "Parch          0\n",
       "Ticket         0\n",
       "Fare           0\n",
       "Embarked       0\n",
       "dtype: int64"
      ]
     },
     "execution_count": 24,
     "metadata": {},
     "output_type": "execute_result"
    }
   ],
   "source": [
    "test_data.isnull().sum()"
   ]
  },
  {
   "cell_type": "code",
   "execution_count": 25,
   "id": "b11e58df",
   "metadata": {
    "execution": {
     "iopub.execute_input": "2021-08-05T19:07:29.647140Z",
     "iopub.status.busy": "2021-08-05T19:07:29.646374Z",
     "iopub.status.idle": "2021-08-05T19:07:30.025848Z",
     "shell.execute_reply": "2021-08-05T19:07:30.026318Z",
     "shell.execute_reply.started": "2021-08-05T19:06:52.379741Z"
    },
    "papermill": {
     "duration": 0.436208,
     "end_time": "2021-08-05T19:07:30.026493",
     "exception": false,
     "start_time": "2021-08-05T19:07:29.590285",
     "status": "completed"
    },
    "tags": []
   },
   "outputs": [
    {
     "data": {
      "text/plain": [
       "<AxesSubplot:>"
      ]
     },
     "execution_count": 25,
     "metadata": {},
     "output_type": "execute_result"
    },
    {
     "data": {
      "image/png": "[encoded data removed]",
      "text/plain": [
       "<Figure size 432x288 with 2 Axes>"
      ]
     },
     "metadata": {},
     "output_type": "display_data"
    }
   ],
   "source": [
    "sns.heatmap(test_data.isnull(),yticklabels=False)"
   ]
  },
  {
   "cell_type": "markdown",
   "id": "0836cc84",
   "metadata": {
    "papermill": {
     "duration": 0.054313,
     "end_time": "2021-08-05T19:07:30.134783",
     "exception": false,
     "start_time": "2021-08-05T19:07:30.080470",
     "status": "completed"
    },
    "tags": []
   },
   "source": [
    "# Converting Categorical Features"
   ]
  },
  {
   "cell_type": "markdown",
   "id": "d7d33280",
   "metadata": {
    "papermill": {
     "duration": 0.05385,
     "end_time": "2021-08-05T19:07:30.242780",
     "exception": false,
     "start_time": "2021-08-05T19:07:30.188930",
     "status": "completed"
    },
    "tags": []
   },
   "source": [
    "## on train set"
   ]
  },
  {
   "cell_type": "code",
   "execution_count": 26,
   "id": "113f8581",
   "metadata": {
    "execution": {
     "iopub.execute_input": "2021-08-05T19:07:30.366314Z",
     "iopub.status.busy": "2021-08-05T19:07:30.365566Z",
     "iopub.status.idle": "2021-08-05T19:07:30.376990Z",
     "shell.execute_reply": "2021-08-05T19:07:30.377764Z",
     "shell.execute_reply.started": "2021-08-05T19:06:52.719000Z"
    },
    "papermill": {
     "duration": 0.080007,
     "end_time": "2021-08-05T19:07:30.377994",
     "exception": false,
     "start_time": "2021-08-05T19:07:30.297987",
     "status": "completed"
    },
    "tags": []
   },
   "outputs": [
    {
     "name": "stdout",
     "output_type": "stream",
     "text": [
      "<class 'pandas.core.frame.DataFrame'>\n",
      "RangeIndex: 891 entries, 0 to 890\n",
      "Data columns (total 11 columns):\n",
      " #   Column       Non-Null Count  Dtype  \n",
      "---  ------       --------------  -----  \n",
      " 0   PassengerId  891 non-null    int64  \n",
      " 1   Survived     891 non-null    int64  \n",
      " 2   Pclass       891 non-null    int64  \n",
      " 3   Name         891 non-null    object \n",
      " 4   Sex          891 non-null    object \n",
      " 5   Age          891 non-null    float64\n",
      " 6   SibSp        891 non-null    int64  \n",
      " 7   Parch        891 non-null    int64  \n",
      " 8   Ticket       891 non-null    object \n",
      " 9   Fare         891 non-null    float64\n",
      " 10  Embarked     889 non-null    object \n",
      "dtypes: float64(2), int64(5), object(4)\n",
      "memory usage: 76.7+ KB\n"
     ]
    }
   ],
   "source": [
    "train_data.info()"
   ]
  },
  {
   "cell_type": "code",
   "execution_count": 27,
   "id": "8aec8c88",
   "metadata": {
    "execution": {
     "iopub.execute_input": "2021-08-05T19:07:30.493427Z",
     "iopub.status.busy": "2021-08-05T19:07:30.492748Z",
     "iopub.status.idle": "2021-08-05T19:07:30.500446Z",
     "shell.execute_reply": "2021-08-05T19:07:30.499942Z",
     "shell.execute_reply.started": "2021-08-05T19:06:52.740148Z"
    },
    "papermill": {
     "duration": 0.06404,
     "end_time": "2021-08-05T19:07:30.500591",
     "exception": false,
     "start_time": "2021-08-05T19:07:30.436551",
     "status": "completed"
    },
    "tags": []
   },
   "outputs": [
    {
     "data": {
      "text/plain": [
       "S    644\n",
       "C    168\n",
       "Q     77\n",
       "Name: Embarked, dtype: int64"
      ]
     },
     "execution_count": 27,
     "metadata": {},
     "output_type": "execute_result"
    }
   ],
   "source": [
    "train_data.Embarked.value_counts()"
   ]
  },
  {
   "cell_type": "code",
   "execution_count": 28,
   "id": "46413821",
   "metadata": {
    "execution": {
     "iopub.execute_input": "2021-08-05T19:07:30.615340Z",
     "iopub.status.busy": "2021-08-05T19:07:30.614651Z",
     "iopub.status.idle": "2021-08-05T19:07:30.620393Z",
     "shell.execute_reply": "2021-08-05T19:07:30.619707Z",
     "shell.execute_reply.started": "2021-08-05T19:06:52.751301Z"
    },
    "papermill": {
     "duration": 0.065629,
     "end_time": "2021-08-05T19:07:30.620530",
     "exception": false,
     "start_time": "2021-08-05T19:07:30.554901",
     "status": "completed"
    },
    "tags": []
   },
   "outputs": [],
   "source": [
    "sex = pd.get_dummies(train_data['Sex'],drop_first=True)\n",
    "embark = pd.get_dummies(train_data['Embarked'],drop_first=True)"
   ]
  },
  {
   "cell_type": "code",
   "execution_count": 29,
   "id": "99120d9e",
   "metadata": {
    "execution": {
     "iopub.execute_input": "2021-08-05T19:07:30.736119Z",
     "iopub.status.busy": "2021-08-05T19:07:30.735410Z",
     "iopub.status.idle": "2021-08-05T19:07:30.738571Z",
     "shell.execute_reply": "2021-08-05T19:07:30.737953Z",
     "shell.execute_reply.started": "2021-08-05T19:06:52.765539Z"
    },
    "papermill": {
     "duration": 0.063814,
     "end_time": "2021-08-05T19:07:30.738711",
     "exception": false,
     "start_time": "2021-08-05T19:07:30.674897",
     "status": "completed"
    },
    "tags": []
   },
   "outputs": [],
   "source": [
    "train_data.drop(['Sex','Embarked','Name','Ticket','PassengerId'],axis=1,inplace=True)"
   ]
  },
  {
   "cell_type": "code",
   "execution_count": 30,
   "id": "156c8275",
   "metadata": {
    "execution": {
     "iopub.execute_input": "2021-08-05T19:07:30.860001Z",
     "iopub.status.busy": "2021-08-05T19:07:30.859316Z",
     "iopub.status.idle": "2021-08-05T19:07:30.863819Z",
     "shell.execute_reply": "2021-08-05T19:07:30.864307Z",
     "shell.execute_reply.started": "2021-08-05T19:06:52.778613Z"
    },
    "papermill": {
     "duration": 0.071138,
     "end_time": "2021-08-05T19:07:30.864483",
     "exception": false,
     "start_time": "2021-08-05T19:07:30.793345",
     "status": "completed"
    },
    "tags": []
   },
   "outputs": [
    {
     "data": {
      "text/html": [
       "<div>\n",
       "<style scoped>\n",
       "    .dataframe tbody tr th:only-of-type {\n",
       "        vertical-align: middle;\n",
       "    }\n",
       "\n",
       "    .dataframe tbody tr th {\n",
       "        vertical-align: top;\n",
       "    }\n",
       "\n",
       "    .dataframe thead th {\n",
       "        text-align: right;\n",
       "    }\n",
       "</style>\n",
       "<table border=\"1\" class=\"dataframe\">\n",
       "  <thead>\n",
       "    <tr style=\"text-align: right;\">\n",
       "      <th></th>\n",
       "      <th>Survived</th>\n",
       "      <th>Pclass</th>\n",
       "      <th>Age</th>\n",
       "      <th>SibSp</th>\n",
       "      <th>Parch</th>\n",
       "      <th>Fare</th>\n",
       "    </tr>\n",
       "  </thead>\n",
       "  <tbody>\n",
       "    <tr>\n",
       "      <th>0</th>\n",
       "      <td>0</td>\n",
       "      <td>3</td>\n",
       "      <td>22.0</td>\n",
       "      <td>1</td>\n",
       "      <td>0</td>\n",
       "      <td>7.2500</td>\n",
       "    </tr>\n",
       "    <tr>\n",
       "      <th>1</th>\n",
       "      <td>1</td>\n",
       "      <td>1</td>\n",
       "      <td>38.0</td>\n",
       "      <td>1</td>\n",
       "      <td>0</td>\n",
       "      <td>71.2833</td>\n",
       "    </tr>\n",
       "    <tr>\n",
       "      <th>2</th>\n",
       "      <td>1</td>\n",
       "      <td>3</td>\n",
       "      <td>26.0</td>\n",
       "      <td>0</td>\n",
       "      <td>0</td>\n",
       "      <td>7.9250</td>\n",
       "    </tr>\n",
       "    <tr>\n",
       "      <th>3</th>\n",
       "      <td>1</td>\n",
       "      <td>1</td>\n",
       "      <td>35.0</td>\n",
       "      <td>1</td>\n",
       "      <td>0</td>\n",
       "      <td>53.1000</td>\n",
       "    </tr>\n",
       "    <tr>\n",
       "      <th>4</th>\n",
       "      <td>0</td>\n",
       "      <td>3</td>\n",
       "      <td>35.0</td>\n",
       "      <td>0</td>\n",
       "      <td>0</td>\n",
       "      <td>8.0500</td>\n",
       "    </tr>\n",
       "  </tbody>\n",
       "</table>\n",
       "</div>"
      ],
      "text/plain": [
       "   Survived  Pclass   Age  SibSp  Parch     Fare\n",
       "0         0       3  22.0      1      0   7.2500\n",
       "1         1       1  38.0      1      0  71.2833\n",
       "2         1       3  26.0      0      0   7.9250\n",
       "3         1       1  35.0      1      0  53.1000\n",
       "4         0       3  35.0      0      0   8.0500"
      ]
     },
     "execution_count": 30,
     "metadata": {},
     "output_type": "execute_result"
    }
   ],
   "source": [
    "train_data.head()"
   ]
  },
  {
   "cell_type": "code",
   "execution_count": 31,
   "id": "076a8d8f",
   "metadata": {
    "execution": {
     "iopub.execute_input": "2021-08-05T19:07:30.978178Z",
     "iopub.status.busy": "2021-08-05T19:07:30.977527Z",
     "iopub.status.idle": "2021-08-05T19:07:30.982999Z",
     "shell.execute_reply": "2021-08-05T19:07:30.983502Z",
     "shell.execute_reply.started": "2021-08-05T19:06:52.797362Z"
    },
    "papermill": {
     "duration": 0.064132,
     "end_time": "2021-08-05T19:07:30.983662",
     "exception": false,
     "start_time": "2021-08-05T19:07:30.919530",
     "status": "completed"
    },
    "tags": []
   },
   "outputs": [],
   "source": [
    "train_data = pd.concat([train_data,sex,embark],axis=1)"
   ]
  },
  {
   "cell_type": "code",
   "execution_count": 32,
   "id": "323c2146",
   "metadata": {
    "execution": {
     "iopub.execute_input": "2021-08-05T19:07:31.096065Z",
     "iopub.status.busy": "2021-08-05T19:07:31.095452Z",
     "iopub.status.idle": "2021-08-05T19:07:31.108586Z",
     "shell.execute_reply": "2021-08-05T19:07:31.109134Z",
     "shell.execute_reply.started": "2021-08-05T19:06:52.810096Z"
    },
    "papermill": {
     "duration": 0.070957,
     "end_time": "2021-08-05T19:07:31.109301",
     "exception": false,
     "start_time": "2021-08-05T19:07:31.038344",
     "status": "completed"
    },
    "tags": []
   },
   "outputs": [
    {
     "data": {
      "text/html": [
       "<div>\n",
       "<style scoped>\n",
       "    .dataframe tbody tr th:only-of-type {\n",
       "        vertical-align: middle;\n",
       "    }\n",
       "\n",
       "    .dataframe tbody tr th {\n",
       "        vertical-align: top;\n",
       "    }\n",
       "\n",
       "    .dataframe thead th {\n",
       "        text-align: right;\n",
       "    }\n",
       "</style>\n",
       "<table border=\"1\" class=\"dataframe\">\n",
       "  <thead>\n",
       "    <tr style=\"text-align: right;\">\n",
       "      <th></th>\n",
       "      <th>Survived</th>\n",
       "      <th>Pclass</th>\n",
       "      <th>Age</th>\n",
       "      <th>SibSp</th>\n",
       "      <th>Parch</th>\n",
       "      <th>Fare</th>\n",
       "      <th>male</th>\n",
       "      <th>Q</th>\n",
       "      <th>S</th>\n",
       "    </tr>\n",
       "  </thead>\n",
       "  <tbody>\n",
       "    <tr>\n",
       "      <th>0</th>\n",
       "      <td>0</td>\n",
       "      <td>3</td>\n",
       "      <td>22.0</td>\n",
       "      <td>1</td>\n",
       "      <td>0</td>\n",
       "      <td>7.2500</td>\n",
       "      <td>1</td>\n",
       "      <td>0</td>\n",
       "      <td>1</td>\n",
       "    </tr>\n",
       "    <tr>\n",
       "      <th>1</th>\n",
       "      <td>1</td>\n",
       "      <td>1</td>\n",
       "      <td>38.0</td>\n",
       "      <td>1</td>\n",
       "      <td>0</td>\n",
       "      <td>71.2833</td>\n",
       "      <td>0</td>\n",
       "      <td>0</td>\n",
       "      <td>0</td>\n",
       "    </tr>\n",
       "    <tr>\n",
       "      <th>2</th>\n",
       "      <td>1</td>\n",
       "      <td>3</td>\n",
       "      <td>26.0</td>\n",
       "      <td>0</td>\n",
       "      <td>0</td>\n",
       "      <td>7.9250</td>\n",
       "      <td>0</td>\n",
       "      <td>0</td>\n",
       "      <td>1</td>\n",
       "    </tr>\n",
       "    <tr>\n",
       "      <th>3</th>\n",
       "      <td>1</td>\n",
       "      <td>1</td>\n",
       "      <td>35.0</td>\n",
       "      <td>1</td>\n",
       "      <td>0</td>\n",
       "      <td>53.1000</td>\n",
       "      <td>0</td>\n",
       "      <td>0</td>\n",
       "      <td>1</td>\n",
       "    </tr>\n",
       "    <tr>\n",
       "      <th>4</th>\n",
       "      <td>0</td>\n",
       "      <td>3</td>\n",
       "      <td>35.0</td>\n",
       "      <td>0</td>\n",
       "      <td>0</td>\n",
       "      <td>8.0500</td>\n",
       "      <td>1</td>\n",
       "      <td>0</td>\n",
       "      <td>1</td>\n",
       "    </tr>\n",
       "  </tbody>\n",
       "</table>\n",
       "</div>"
      ],
      "text/plain": [
       "   Survived  Pclass   Age  SibSp  Parch     Fare  male  Q  S\n",
       "0         0       3  22.0      1      0   7.2500     1  0  1\n",
       "1         1       1  38.0      1      0  71.2833     0  0  0\n",
       "2         1       3  26.0      0      0   7.9250     0  0  1\n",
       "3         1       1  35.0      1      0  53.1000     0  0  1\n",
       "4         0       3  35.0      0      0   8.0500     1  0  1"
      ]
     },
     "execution_count": 32,
     "metadata": {},
     "output_type": "execute_result"
    }
   ],
   "source": [
    "train_data.head()"
   ]
  },
  {
   "cell_type": "markdown",
   "id": "dd529e09",
   "metadata": {
    "papermill": {
     "duration": 0.054854,
     "end_time": "2021-08-05T19:07:31.219453",
     "exception": false,
     "start_time": "2021-08-05T19:07:31.164599",
     "status": "completed"
    },
    "tags": []
   },
   "source": [
    "### on test set"
   ]
  },
  {
   "cell_type": "code",
   "execution_count": 33,
   "id": "c5dc5e77",
   "metadata": {
    "execution": {
     "iopub.execute_input": "2021-08-05T19:07:31.334322Z",
     "iopub.status.busy": "2021-08-05T19:07:31.333631Z",
     "iopub.status.idle": "2021-08-05T19:07:31.339565Z",
     "shell.execute_reply": "2021-08-05T19:07:31.340084Z",
     "shell.execute_reply.started": "2021-08-05T19:06:52.834561Z"
    },
    "papermill": {
     "duration": 0.065627,
     "end_time": "2021-08-05T19:07:31.340270",
     "exception": false,
     "start_time": "2021-08-05T19:07:31.274643",
     "status": "completed"
    },
    "tags": []
   },
   "outputs": [],
   "source": [
    "test_sex = pd.get_dummies(test_data['Sex'],drop_first=True)\n",
    "test_embark = pd.get_dummies(test_data['Embarked'],drop_first=True)"
   ]
  },
  {
   "cell_type": "code",
   "execution_count": 34,
   "id": "67e4493a",
   "metadata": {
    "execution": {
     "iopub.execute_input": "2021-08-05T19:07:31.456087Z",
     "iopub.status.busy": "2021-08-05T19:07:31.455162Z",
     "iopub.status.idle": "2021-08-05T19:07:31.461311Z",
     "shell.execute_reply": "2021-08-05T19:07:31.460761Z",
     "shell.execute_reply.started": "2021-08-05T19:06:52.844183Z"
    },
    "papermill": {
     "duration": 0.064504,
     "end_time": "2021-08-05T19:07:31.461442",
     "exception": false,
     "start_time": "2021-08-05T19:07:31.396938",
     "status": "completed"
    },
    "tags": []
   },
   "outputs": [],
   "source": [
    "test_data.drop(['Sex','Embarked','Name','Ticket'],axis=1,inplace=True)"
   ]
  },
  {
   "cell_type": "code",
   "execution_count": 35,
   "id": "3ee56076",
   "metadata": {
    "execution": {
     "iopub.execute_input": "2021-08-05T19:07:31.575933Z",
     "iopub.status.busy": "2021-08-05T19:07:31.574967Z",
     "iopub.status.idle": "2021-08-05T19:07:31.580381Z",
     "shell.execute_reply": "2021-08-05T19:07:31.580839Z",
     "shell.execute_reply.started": "2021-08-05T19:06:52.856600Z"
    },
    "papermill": {
     "duration": 0.064211,
     "end_time": "2021-08-05T19:07:31.581007",
     "exception": false,
     "start_time": "2021-08-05T19:07:31.516796",
     "status": "completed"
    },
    "tags": []
   },
   "outputs": [],
   "source": [
    "test_data = pd.concat([test_data,test_sex,test_embark],axis=1)"
   ]
  },
  {
   "cell_type": "markdown",
   "id": "5ae2f19c",
   "metadata": {
    "papermill": {
     "duration": 0.055125,
     "end_time": "2021-08-05T19:07:31.692118",
     "exception": false,
     "start_time": "2021-08-05T19:07:31.636993",
     "status": "completed"
    },
    "tags": []
   },
   "source": [
    "# Building Model"
   ]
  },
  {
   "cell_type": "code",
   "execution_count": 36,
   "id": "99e79062",
   "metadata": {
    "execution": {
     "iopub.execute_input": "2021-08-05T19:07:31.806508Z",
     "iopub.status.busy": "2021-08-05T19:07:31.805527Z",
     "iopub.status.idle": "2021-08-05T19:07:31.811208Z",
     "shell.execute_reply": "2021-08-05T19:07:31.811671Z",
     "shell.execute_reply.started": "2021-08-05T19:06:52.871963Z"
    },
    "papermill": {
     "duration": 0.064611,
     "end_time": "2021-08-05T19:07:31.811861",
     "exception": false,
     "start_time": "2021-08-05T19:07:31.747250",
     "status": "completed"
    },
    "tags": []
   },
   "outputs": [],
   "source": [
    "x_train = train_data.drop( 'Survived', axis = 1)"
   ]
  },
  {
   "cell_type": "code",
   "execution_count": 37,
   "id": "1a405cbd",
   "metadata": {
    "execution": {
     "iopub.execute_input": "2021-08-05T19:07:31.926076Z",
     "iopub.status.busy": "2021-08-05T19:07:31.925116Z",
     "iopub.status.idle": "2021-08-05T19:07:31.930632Z",
     "shell.execute_reply": "2021-08-05T19:07:31.931119Z",
     "shell.execute_reply.started": "2021-08-05T19:06:52.889882Z"
    },
    "papermill": {
     "duration": 0.064121,
     "end_time": "2021-08-05T19:07:31.931301",
     "exception": false,
     "start_time": "2021-08-05T19:07:31.867180",
     "status": "completed"
    },
    "tags": []
   },
   "outputs": [],
   "source": [
    "x_test = test_data.drop('PassengerId' , axis = 1)"
   ]
  },
  {
   "cell_type": "code",
   "execution_count": 38,
   "id": "26c98d3e",
   "metadata": {
    "execution": {
     "iopub.execute_input": "2021-08-05T19:07:32.046178Z",
     "iopub.status.busy": "2021-08-05T19:07:32.045187Z",
     "iopub.status.idle": "2021-08-05T19:07:32.050240Z",
     "shell.execute_reply": "2021-08-05T19:07:32.049520Z",
     "shell.execute_reply.started": "2021-08-05T19:06:52.901067Z"
    },
    "papermill": {
     "duration": 0.064217,
     "end_time": "2021-08-05T19:07:32.050381",
     "exception": false,
     "start_time": "2021-08-05T19:07:31.986164",
     "status": "completed"
    },
    "tags": []
   },
   "outputs": [],
   "source": [
    "y = train_data[\"Survived\"]"
   ]
  },
  {
   "cell_type": "code",
   "execution_count": 39,
   "id": "2353fc0f",
   "metadata": {
    "execution": {
     "iopub.execute_input": "2021-08-05T19:07:32.170451Z",
     "iopub.status.busy": "2021-08-05T19:07:32.169565Z",
     "iopub.status.idle": "2021-08-05T19:07:32.173512Z",
     "shell.execute_reply": "2021-08-05T19:07:32.172905Z",
     "shell.execute_reply.started": "2021-08-05T19:06:52.910559Z"
    },
    "papermill": {
     "duration": 0.067337,
     "end_time": "2021-08-05T19:07:32.173658",
     "exception": false,
     "start_time": "2021-08-05T19:07:32.106321",
     "status": "completed"
    },
    "tags": []
   },
   "outputs": [
    {
     "data": {
      "text/plain": [
       "Pclass    0\n",
       "Age       0\n",
       "SibSp     0\n",
       "Parch     0\n",
       "Fare      0\n",
       "male      0\n",
       "Q         0\n",
       "S         0\n",
       "dtype: int64"
      ]
     },
     "execution_count": 39,
     "metadata": {},
     "output_type": "execute_result"
    }
   ],
   "source": [
    "x_test.isnull().sum()"
   ]
  },
  {
   "cell_type": "code",
   "execution_count": 40,
   "id": "70c269fb",
   "metadata": {
    "execution": {
     "iopub.execute_input": "2021-08-05T19:07:32.289129Z",
     "iopub.status.busy": "2021-08-05T19:07:32.288472Z",
     "iopub.status.idle": "2021-08-05T19:07:32.896786Z",
     "shell.execute_reply": "2021-08-05T19:07:32.895946Z",
     "shell.execute_reply.started": "2021-08-05T19:06:52.927852Z"
    },
    "papermill": {
     "duration": 0.666806,
     "end_time": "2021-08-05T19:07:32.896965",
     "exception": false,
     "start_time": "2021-08-05T19:07:32.230159",
     "status": "completed"
    },
    "tags": []
   },
   "outputs": [
    {
     "name": "stdout",
     "output_type": "stream",
     "text": [
      "Your submission was successfully saved!\n"
     ]
    }
   ],
   "source": [
    "from sklearn.ensemble import RandomForestClassifier\n",
    "\n",
    "model = RandomForestClassifier(n_estimators=100, max_depth=5, random_state=1)\n",
    "model.fit(x_train, y)\n",
    "predictions = model.predict(x_test)\n",
    "\n",
    "output = pd.DataFrame({'PassengerId': test_data.PassengerId, 'Survived': predictions})\n",
    "output.to_csv('my_submission.csv', index=False)\n",
    "print(\"Your submission was successfully saved!\")"
   ]
  },
  {
   "cell_type": "code",
   "execution_count": null,
   "id": "4686d08d",
   "metadata": {
    "papermill": {
     "duration": 0.056451,
     "end_time": "2021-08-05T19:07:33.012779",
     "exception": false,
     "start_time": "2021-08-05T19:07:32.956328",
     "status": "completed"
    },
    "tags": []
   },
   "outputs": [],
   "source": []
  },
  {
   "cell_type": "code",
   "execution_count": null,
   "id": "3493110f",
   "metadata": {
    "papermill": {
     "duration": 0.056653,
     "end_time": "2021-08-05T19:07:33.125796",
     "exception": false,
     "start_time": "2021-08-05T19:07:33.069143",
     "status": "completed"
    },
    "tags": []
   },
   "outputs": [],
   "source": []
  }
 ],
 "metadata": {
  "kernelspec": {
   "display_name": "Python 3",
   "language": "python",
   "name": "python3"
  },
  "language_info": {
   "codemirror_mode": {
    "name": "ipython",
    "version": 3
   },
   "file_extension": ".py",
   "mimetype": "text/x-python",
   "name": "python",
   "nbconvert_exporter": "python",
   "pygments_lexer": "ipython3",
   "version": "3.7.10"
  },
  "papermill": {
   "default_parameters": {},
   "duration": 19.500145,
   "end_time": "2021-08-05T19:07:33.993032",
   "environment_variables": {},
   "exception": null,
   "input_path": "__notebook__.ipynb",
   "output_path": "__notebook__.ipynb",
   "parameters": {},
   "start_time": "2021-08-05T19:07:14.492887",
   "version": "2.3.3"
  }
 },
 "nbformat": 4,
 "nbformat_minor": 5
}

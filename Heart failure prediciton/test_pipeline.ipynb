{
 "cells": [
  {
   "cell_type": "code",
   "execution_count": 2,
   "id": "manual-cigarette",
   "metadata": {},
   "outputs": [],
   "source": [
    "#import libraries\n",
    "import numpy as np\n",
    "import pandas as pd\n",
    "import matplotlib.pyplot as plt\n",
    "import seaborn as sns"
   ]
  },
  {
   "cell_type": "code",
   "execution_count": 3,
   "id": "dying-barrel",
   "metadata": {},
   "outputs": [
    {
     "name": "stdout",
     "output_type": "stream",
     "text": [
      "    age  anaemia  creatinine_phosphokinase  diabetes  ejection_fraction  \\\n",
      "0  70.0        0                       582         0                 40   \n",
      "1  50.0        1                       298         0                 35   \n",
      "2  45.0        0                      2442         1                 30   \n",
      "3  80.0        1                       123         0                 35   \n",
      "4  42.0        0                       102         1                 40   \n",
      "\n",
      "   high_blood_pressure  platelets  serum_creatinine  serum_sodium  sex  \\\n",
      "0                    0    51000.0               2.7           136    1   \n",
      "1                    0   362000.0               0.9           140    1   \n",
      "2                    0   334000.0               1.1           139    1   \n",
      "3                    1   388000.0               9.4           133    1   \n",
      "4                    0   237000.0               1.2           140    1   \n",
      "\n",
      "   smoking  time  DEATH_EVENT  \n",
      "0        1   250            0  \n",
      "1        1   240            0  \n",
      "2        0   129            1  \n",
      "3        1    10            1  \n",
      "4        0    74            0  \n"
     ]
    }
   ],
   "source": [
    "test_data= pd.read_csv(\"heart_test.csv\")\n",
    "print(test_data.head())"
   ]
  },
  {
   "cell_type": "code",
   "execution_count": 4,
   "id": "creative-buffalo",
   "metadata": {},
   "outputs": [
    {
     "name": "stdout",
     "output_type": "stream",
     "text": [
      "===============describe================\n",
      "             age    anaemia  creatinine_phosphokinase   diabetes  \\\n",
      "count  60.000000  60.000000                 60.000000  60.000000   \n",
      "mean   59.933333   0.416667                600.783333   0.466667   \n",
      "std    11.524280   0.497167               1066.559161   0.503098   \n",
      "min    40.000000   0.000000                 47.000000   0.000000   \n",
      "25%    50.000000   0.000000                140.000000   0.000000   \n",
      "50%    60.000000   0.000000                306.500000   0.000000   \n",
      "75%    70.000000   1.000000                582.000000   1.000000   \n",
      "max    90.000000   1.000000               7702.000000   1.000000   \n",
      "\n",
      "       ejection_fraction  high_blood_pressure      platelets  \\\n",
      "count          60.000000            60.000000      60.000000   \n",
      "mean           37.366667             0.350000  267064.835833   \n",
      "std            12.616866             0.480995  111565.111908   \n",
      "min            14.000000             0.000000   25100.000000   \n",
      "25%            28.750000             0.000000  214500.000000   \n",
      "50%            35.000000             0.000000  257000.000000   \n",
      "75%            45.000000             1.000000  302500.000000   \n",
      "max            60.000000             1.000000  850000.000000   \n",
      "\n",
      "       serum_creatinine  serum_sodium        sex    smoking        time  \\\n",
      "count         60.000000     60.000000  60.000000  60.000000   60.000000   \n",
      "mean           1.419833    137.450000   0.666667   0.350000  122.150000   \n",
      "std            1.187920      4.236344   0.475383   0.480995   74.692097   \n",
      "min            0.600000    127.000000   0.000000   0.000000    8.000000   \n",
      "25%            0.900000    135.000000   0.000000   0.000000   72.750000   \n",
      "50%            1.100000    137.000000   1.000000   0.000000   99.500000   \n",
      "75%            1.625000    140.000000   1.000000   1.000000  187.250000   \n",
      "max            9.400000    148.000000   1.000000   1.000000  256.000000   \n",
      "\n",
      "       DEATH_EVENT  \n",
      "count    60.000000  \n",
      "mean      0.416667  \n",
      "std       0.497167  \n",
      "min       0.000000  \n",
      "25%       0.000000  \n",
      "50%       0.000000  \n",
      "75%       1.000000  \n",
      "max       1.000000  \n",
      "================info===================\n",
      "<class 'pandas.core.frame.DataFrame'>\n",
      "RangeIndex: 60 entries, 0 to 59\n",
      "Data columns (total 13 columns):\n",
      " #   Column                    Non-Null Count  Dtype  \n",
      "---  ------                    --------------  -----  \n",
      " 0   age                       60 non-null     float64\n",
      " 1   anaemia                   60 non-null     int64  \n",
      " 2   creatinine_phosphokinase  60 non-null     int64  \n",
      " 3   diabetes                  60 non-null     int64  \n",
      " 4   ejection_fraction         60 non-null     int64  \n",
      " 5   high_blood_pressure       60 non-null     int64  \n",
      " 6   platelets                 60 non-null     float64\n",
      " 7   serum_creatinine          60 non-null     float64\n",
      " 8   serum_sodium              60 non-null     int64  \n",
      " 9   sex                       60 non-null     int64  \n",
      " 10  smoking                   60 non-null     int64  \n",
      " 11  time                      60 non-null     int64  \n",
      " 12  DEATH_EVENT               60 non-null     int64  \n",
      "dtypes: float64(3), int64(10)\n",
      "memory usage: 6.2 KB\n",
      "None\n"
     ]
    }
   ],
   "source": [
    "print(\"===============describe================\")\n",
    "print(test_data.describe())\n",
    "\n",
    "print(\"================info===================\")\n",
    "print(test_data.info())\n"
   ]
  },
  {
   "cell_type": "code",
   "execution_count": 6,
   "id": "blank-senate",
   "metadata": {
    "scrolled": true
   },
   "outputs": [
    {
     "name": "stdout",
     "output_type": "stream",
     "text": [
      "age                         0\n",
      "anaemia                     0\n",
      "creatinine_phosphokinase    0\n",
      "diabetes                    0\n",
      "ejection_fraction           0\n",
      "high_blood_pressure         0\n",
      "platelets                   0\n",
      "serum_creatinine            0\n",
      "serum_sodium                0\n",
      "sex                         0\n",
      "smoking                     0\n",
      "time                        0\n",
      "DEATH_EVENT                 0\n",
      "dtype: int64\n",
      "0\n"
     ]
    }
   ],
   "source": [
    "# null values\n",
    "#null values per column\n",
    "print(test_data.isnull().sum())\n",
    "# total null values\n",
    "print(test_data.isnull().sum().sum())"
   ]
  },
  {
   "cell_type": "code",
   "execution_count": null,
   "id": "satisfactory-hunger",
   "metadata": {},
   "outputs": [],
   "source": [
    "# no need to remove outlier in test data"
   ]
  },
  {
   "cell_type": "code",
   "execution_count": 7,
   "id": "standard-carnival",
   "metadata": {},
   "outputs": [
    {
     "name": "stdout",
     "output_type": "stream",
     "text": [
      "<class 'pandas.core.frame.DataFrame'>\n",
      "RangeIndex: 60 entries, 0 to 59\n",
      "Data columns (total 12 columns):\n",
      " #   Column                    Non-Null Count  Dtype  \n",
      "---  ------                    --------------  -----  \n",
      " 0   age                       60 non-null     float64\n",
      " 1   anaemia                   60 non-null     int64  \n",
      " 2   creatinine_phosphokinase  60 non-null     int64  \n",
      " 3   diabetes                  60 non-null     int64  \n",
      " 4   ejection_fraction         60 non-null     int64  \n",
      " 5   high_blood_pressure       60 non-null     int64  \n",
      " 6   platelets                 60 non-null     float64\n",
      " 7   serum_creatinine          60 non-null     float64\n",
      " 8   serum_sodium              60 non-null     int64  \n",
      " 9   sex                       60 non-null     int64  \n",
      " 10  smoking                   60 non-null     int64  \n",
      " 11  time                      60 non-null     int64  \n",
      "dtypes: float64(3), int64(9)\n",
      "memory usage: 5.8 KB\n"
     ]
    }
   ],
   "source": [
    "#x y split\n",
    "x_test= test_data.iloc[:,:-1]\n",
    "y_test= test_data.iloc[:,-1]\n",
    "x_test.head()\n",
    "x_test.info()"
   ]
  },
  {
   "cell_type": "code",
   "execution_count": 8,
   "id": "dedicated-princeton",
   "metadata": {},
   "outputs": [],
   "source": [
    "#scalling\n",
    "from joblib import load\n",
    "sc=load('std_scaler.bin')\n",
    "x_test=sc.transform(x_test)"
   ]
  },
  {
   "cell_type": "code",
   "execution_count": 11,
   "id": "outstanding-marathon",
   "metadata": {},
   "outputs": [],
   "source": [
    "#load the model from disk\n",
    "import joblib\n",
    "model = joblib.load('logistic_regression_model.sav')\n",
    "y_pred= model.predict(x_test)"
   ]
  },
  {
   "cell_type": "code",
   "execution_count": 15,
   "id": "separate-maine",
   "metadata": {},
   "outputs": [
    {
     "name": "stdout",
     "output_type": "stream",
     "text": [
      "              precision    recall  f1-score   support\n",
      "\n",
      "           0       0.77      0.97      0.86        35\n",
      "           1       0.94      0.60      0.73        25\n",
      "\n",
      "    accuracy                           0.82        60\n",
      "   macro avg       0.86      0.79      0.80        60\n",
      "weighted avg       0.84      0.82      0.81        60\n",
      "\n",
      " Model accuracy: 0.8166666666666667\n"
     ]
    }
   ],
   "source": [
    "from sklearn import metrics\n",
    "report=metrics.classification_report(y_test, y_pred,output_dict=True)\n",
    "print(metrics.classification_report(y_test, y_pred))\n",
    "\n",
    "result = model.score(x_test, y_test)\n",
    "print(f' Model accuracy: {result}')\n",
    "#df = pd.DataFrame(report).transpose()\n",
    "#df.to_csv(\"report.csv\")"
   ]
  },
  {
   "cell_type": "code",
   "execution_count": 16,
   "id": "together-action",
   "metadata": {},
   "outputs": [
    {
     "name": "stdout",
     "output_type": "stream",
     "text": [
      "              precision    recall  f1-score   support\n",
      "\n",
      "           0       0.77      0.77      0.77        35\n",
      "           1       0.68      0.68      0.68        25\n",
      "\n",
      "    accuracy                           0.73        60\n",
      "   macro avg       0.73      0.73      0.73        60\n",
      "weighted avg       0.73      0.73      0.73        60\n",
      "\n",
      " Model accuracy: 0.7333333333333333\n"
     ]
    }
   ],
   "source": [
    "model = joblib.load('randomforest.sav')\n",
    "y_pred= model.predict(x_test)\n",
    "\n",
    "from sklearn import metrics\n",
    "report=metrics.classification_report(y_test, y_pred,output_dict=True)\n",
    "print(metrics.classification_report(y_test, y_pred))\n",
    "result = model.score(x_test, y_test)\n",
    "print(f' Model accuracy: {result}')"
   ]
  },
  {
   "cell_type": "code",
   "execution_count": 17,
   "id": "million-secondary",
   "metadata": {},
   "outputs": [
    {
     "name": "stdout",
     "output_type": "stream",
     "text": [
      "              precision    recall  f1-score   support\n",
      "\n",
      "           0       0.76      0.80      0.78        35\n",
      "           1       0.70      0.64      0.67        25\n",
      "\n",
      "    accuracy                           0.73        60\n",
      "   macro avg       0.73      0.72      0.72        60\n",
      "weighted avg       0.73      0.73      0.73        60\n",
      "\n",
      " Model accuracy: 0.7333333333333333\n"
     ]
    }
   ],
   "source": [
    "model = joblib.load('decision_tree.sav')\n",
    "y_pred= model.predict(x_test)\n",
    "\n",
    "from sklearn import metrics\n",
    "report=metrics.classification_report(y_test, y_pred,output_dict=True)\n",
    "print(metrics.classification_report(y_test, y_pred))\n",
    "result = model.score(x_test, y_test)\n",
    "print(f' Model accuracy: {result}')"
   ]
  },
  {
   "cell_type": "code",
   "execution_count": null,
   "id": "demographic-result",
   "metadata": {},
   "outputs": [],
   "source": []
  }
 ],
 "metadata": {
  "kernelspec": {
   "display_name": "Python 3",
   "language": "python",
   "name": "python3"
  },
  "language_info": {
   "codemirror_mode": {
    "name": "ipython",
    "version": 3
   },
   "file_extension": ".py",
   "mimetype": "text/x-python",
   "name": "python",
   "nbconvert_exporter": "python",
   "pygments_lexer": "ipython3",
   "version": "3.8.5"
  }
 },
 "nbformat": 4,
 "nbformat_minor": 5
}
